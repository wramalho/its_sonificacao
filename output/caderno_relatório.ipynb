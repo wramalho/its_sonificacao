{
  "nbformat": 4,
  "nbformat_minor": 0,
  "metadata": {
    "colab": {
      "provenance": [],
      "toc_visible": true
    },
    "kernelspec": {
      "name": "python3",
      "display_name": "Python 3"
    },
    "language_info": {
      "name": "python"
    }
  },
  "cells": [
    {
      "cell_type": "markdown",
      "source": [
        "#**Explorações Sonográficas e Acessibilidade de Dados:** A Percepção dos Brasileiros sobre o Trabalho por Aplicativos em Representações Inclusivas\n"
      ],
      "metadata": {
        "id": "0OX3CdQZGr07"
      }
    },
    {
      "cell_type": "markdown",
      "source": [
        "## Introdução\n",
        "\n",
        "Este caderno de código interativo hospedado no Google Colab é resultado de uma pesquisa conduzida ao longo de três meses para o programa de bolsas do Conecta Trabalhadores, projeto do Instituto de Tecnologia e Sociedade do Rio de Janeiro (ITS-Rio).\n",
        "\n",
        "Aqui, exploro os dados da *survey* \"Percepção dos Brasileiros sobre Trabalho por Aplicativo\" a partir da computação e do som. Em uma primeira abordagem, pergunto o que ocorre ao traduzir os dados para uma representação sonora e não gráfica. Apresento a distribuição dos tipos de trabalhos associados ao trabalho de aplicativo em uma cacofonia agonizante; recomenda-se o uso de *headphones* e refletir sobre as sensações de se escutar o que se escuta, talvez ao também ler [o relatório de pesquisa original](https://itsrio.org/pt/publicacoes/pesquisa-nacional-sobre-a-percepcao-dos-brasileiros-sobre-o-trabalho-por-aplicativo-2024/). Em uma segunda abordagem, me desdobro sobre o problema da acessibilidade digital na pesquisa científica. Tomando as próprias representações visuais do relatório original como base, as reconstruo usando ferramentas multimodais, permitindo sua cognição em braille, texto e som.\n",
        "\n",
        "O caderno é dividido em duas grandes seções que correspondem às referidas abordagens. Caso nunca tenha usado um caderno em formato .ipynb, é preferível que execute célula por célula de código (cada componente deste caderno é uma célula, podendo conter texto ou código) [1].\n",
        "\n",
        "Espero que além de uma leitura agradável, este caderno permaneça para o acaso, como uma descoberta bem-aventurada e não-planejada (no sentido da palavra inglesa ‘serendipity’)."
      ],
      "metadata": {
        "id": "NXLBixDf6UJR"
      }
    },
    {
      "cell_type": "markdown",
      "source": [
        "> “The biggest barrier for me is the time you need to spend tracking down formats you can access in order to gain the same information available to everybody else.\" Robin Williams, estatístico\n",
        "\n",
        "\n",
        "\n"
      ],
      "metadata": {
        "id": "3iVjNpaH0L5_"
      }
    },
    {
      "cell_type": "markdown",
      "source": [
        "## Justificativa e objetivos\n",
        "1. Demonstrar a factabilidade de uma comunicação científica inclusiva _by design_, sem aumento de custos ou carga de trabalho, dois fatores limitantes para a implementação da acessibilidade.\n",
        "2. Acessibilidade, ou melhor, sua ausência, é um problema significativo na academia ao ser um dos maiores fatores da redução da produtividade de pesquisadores com deficiências. Nesse sentido, ver [estudo de caso do repositório científico ArxiV](https://info.arxiv.org/about/accessibility_research_report.html).\n",
        "\n",
        "3. * Fornecer um material passo-a-passo que possa ser útil como substrato para futuras incursões na comunicação científica em seus diferentes escopos.\n",
        "   * O presente caderno CoLab é um dos componentes desse material.\n",
        "   * Neste cenário, será feito um esforço para a escrita de comentários explicativos para que sua compreensão seja mais fecunda aos pesquisadores latinoamericanos sem uma educação formal em Ciências da Computação.\n",
        "\n",
        "\n",
        "\n"
      ],
      "metadata": {
        "id": "CmDSkP5_iI5L"
      }
    },
    {
      "cell_type": "markdown",
      "source": [
        "# Sonografias do trabalho de plataforma: sonificação dos dados da pesquisa IPEC/ITS"
      ],
      "metadata": {
        "id": "84wdRlsxlego"
      }
    },
    {
      "cell_type": "markdown",
      "source": [
        "A sonificação, ou mapeamento sonoro, consiste na representação dos dados por meio de elementos sonoros ou, ainda, a comunicação através de áudio não-verbal. Esse conjunto de técnicas permite uma percepção auditiva das informações, oferecendo uma alternativa ou complemento às tradicionais visualizações gráficas. No contexto dos oceanos e do espaço sideral, a sonificação tem sido utilizada para representar correntes marítimas, mudanças climáticas e dados astronômicos, tornando acessíveis fenômenos que, de outra forma, seriam invisíveis aos nossos sentidos."
      ],
      "metadata": {
        "id": "QVgug34F_tEu"
      }
    },
    {
      "cell_type": "markdown",
      "source": [
        "## Etapas para produzir uma sonografia experimental\n",
        "Para aplicar a sonificação aos dados da pesquisa sobre a opinião de brasileiros acerca do trabalho de aplicativo, propomos o seguinte fluxo de trabalho:\n",
        "\n",
        "1. **Seleção de Dados Relevantes**: Identificar quais aspectos da pesquisa serão sonificados.\n",
        "2. **Definição de Parâmetros Sonoros**: Estabelecer como cada variável será representada sonoramente (por exemplo, alturas mais altas para maior frequência de uso).\n",
        "3. **Desenvolvimento de Protótipos**: Utilizar softwares de sonificação para criar modelos iniciais e testar diferentes mapeamentos sonoros.\n",
        "\n",
        "Nesse sentido, escolhi explorar a distribuição das respostas à pergunta abaixo, realizada na *survey*."
      ],
      "metadata": {
        "id": "bzFtqDgb__eD"
      }
    },
    {
      "cell_type": "markdown",
      "source": [
        "> Pergunta 1.4 De cada um dos tipos de trabalhos a seguir, por favor diga quais deles você associa diretamente ao trabalho por aplicativo?\n"
      ],
      "metadata": {
        "id": "J-8yQ8keQhEZ"
      }
    },
    {
      "cell_type": "markdown",
      "source": [
        "## **Definindo o ambiente de trabalho**\n",
        "\n",
        "\n",
        "\n",
        "*   Definir os módulos utilizados\n",
        "*   Definir os caminhos de arquivo no Colab\n",
        "\n",
        "\n"
      ],
      "metadata": {
        "id": "ykeCxGwQOdxW"
      }
    },
    {
      "cell_type": "code",
      "execution_count": null,
      "metadata": {
        "id": "gvLjSfXcCfoZ",
        "colab": {
          "base_uri": "https://localhost:8080/"
        },
        "outputId": "b14ed811-2268-4dab-f2e4-195a9aa0f444"
      },
      "outputs": [
        {
          "output_type": "stream",
          "name": "stdout",
          "text": [
            "Collecting pydub\n",
            "  Downloading pydub-0.25.1-py2.py3-none-any.whl.metadata (1.4 kB)\n",
            "Downloading pydub-0.25.1-py2.py3-none-any.whl (32 kB)\n",
            "Installing collected packages: pydub\n",
            "Successfully installed pydub-0.25.1\n"
          ]
        }
      ],
      "source": [
        "!pip install pydub\n",
        "#a execução dessa primeira pode exigir ajustes. ao rodar localmente a partir de um arquivo .py, é mais adequado listar os módulos necessários (como pandas) em arquivo requirements.txt e executar pip install -r requirements.txt em um ambiente virtual\n",
        "\n",
        "import sys\n",
        "import pandas as pd\n",
        "from pydub import AudioSegment, silence, effects\n",
        "import os\n",
        "import argparse\n",
        "from multiprocessing import Pool, cpu_count\n",
        "\n",
        "\n"
      ]
    },
    {
      "cell_type": "markdown",
      "source": [
        "**Mapeando as variáveis aos caminhos dos seus arquivos (_filepaths_).**\n",
        "\n",
        "Além da base de dados, é necessária uma lista de efeitos sonoros (todos copyleft, provenientes da freesound.org) utilizadas para a sintetização dos áudios**"
      ],
      "metadata": {
        "id": "jAaS9DKNO2OH"
      }
    },
    {
      "cell_type": "code",
      "source": [
        "# Path para a base de dados; originalmente '230269_Percepção_Sobre_Trabalho_Por_Aplicativo_BD.xlsx', renomeado para data.xlsx\n",
        "INPUT_FILE = 'data.xlsx'\n",
        "\n",
        "# Path de dois áudios: um \"teste\" (parcial) e outro completo\n",
        "OUTPUT_FILE_TEST = 'test_output.wav'\n",
        "OUTPUT_FILE_FULL = 'full_output.wav'\n",
        "\n",
        "# Mapa das colunas da BD com sons associáveis às atividades\n",
        "COLUMN_SOUND_MAP = {\n",
        "    'P1_4A': 'campanhia.wav',\n",
        "    'P1_4B': 'buzina.wav',\n",
        "    'P1_4C': 'vassoura.wav',\n",
        "    'P1_4D': 'keyboard.wav',\n",
        "    'P1_4E': 'giz.wav',\n",
        "    'P1_4F': 'caminhao.wav',\n",
        "    'P1_4G': 'ambulancia.wav',\n",
        "}\n"
      ],
      "metadata": {
        "id": "D0OvPniaCtBA"
      },
      "execution_count": null,
      "outputs": []
    },
    {
      "cell_type": "markdown",
      "source": [
        "## Primeiro mapeamento de variável. Grau de conhecimento como parâmetro de intervalo sonoro.\n",
        "\n",
        "A ideia é relacionar os intervalos de áudio às respostas dos entrevistados. Definir o limite máximo de conjunto sonoro por resposta (1000ms, no caso) e por entrevistado (2500ms). Representar ausência de respostas como silêncio."
      ],
      "metadata": {
        "id": "d9fSRgAvW7uQ"
      }
    },
    {
      "cell_type": "code",
      "source": [
        "\n",
        "# average P1_1 (grau de conhecimento) -> ms\n",
        "INTERVAL_MAP = {\n",
        "    1: 10,      # Simutâneo (overlap)\n",
        "    2: 300,    # 0.25 entre sons\n",
        "    3: 650,    # 0.5 seconds between sounds\n",
        "    4: 1500,   # 1 second between sounds\n",
        "}\n",
        "\n",
        "# Valores máximos por row (som ou silêncio.)\n",
        "MAX_ROW_DURATION = 2500.\n",
        "SILENCE_DURATION = 1000.\n",
        "\n"
      ],
      "metadata": {
        "id": "O9u2z1YnCwlj"
      },
      "execution_count": null,
      "outputs": []
    },
    {
      "cell_type": "markdown",
      "source": [
        "**Aqui definimos uma função que cria um dicionário, estrutura simples de dados em Python.** Não seria nada eficiente conferir qual som corresponde a qual resposta para cada uma das potenciais 12000 queries (2000 respondentes e 6 subperguntas para a pergunta de interesse)**\n",
        "\n",
        "\n",
        "\n",
        "*   `load_sounds (`função que utiliza variáveis definidas acima)\n",
        "*   `apply_bpm_change` (modulação de batidas por minuto ao longo da track produzida)\n",
        "\n",
        "\n",
        "\n",
        "\n"
      ],
      "metadata": {
        "id": "VjPq9Z_sRjvn"
      }
    },
    {
      "cell_type": "code",
      "source": [
        "def load_sounds():\n",
        "    \"\"\"Carregar tipo de som em um dicionário\"\"\"\n",
        "    sounds = {}\n",
        "    for col, filename in COLUMN_SOUND_MAP.items():\n",
        "        if os.path.exists(filename):\n",
        "            sounds[col] = AudioSegment.from_wav(filename)\n",
        "        else:\n",
        "            # Silêncio place-holder para não-respostas\n",
        "            sounds[col] = AudioSegment.silent(duration=1500)\n",
        "    return sounds\n",
        "\n"
      ],
      "metadata": {
        "id": "pJDQgaoEC0da"
      },
      "execution_count": null,
      "outputs": []
    },
    {
      "cell_type": "code",
      "source": [
        "def apply_bpm_change(audio, start_ratio=0.15, final_bpm=140):\n",
        "    \"\"\"Alteração progressiva de BPM\"\"\" #JUSTIFICATIVA: trazer a temporalidade da distribuição; criar pelo ritmo do som, início e fim\n",
        "    original_duration = len(audio)\n",
        "    start_point = int(original_duration * start_ratio)\n",
        "    initial_bpm = 30  # Começando em 60 bpm\n",
        "    rate_change = final_bpm / initial_bpm\n",
        "\n",
        "    # Gradação do aumento do ritmo a partir de 20% até 100% da track\n",
        "    speed_changed = effects.speedup(audio[start_point:], playback_speed=rate_change, crossfade=50)\n",
        "    combined_audio = audio[:start_point] + speed_changed\n",
        "    return combined_audio\n"
      ],
      "metadata": {
        "id": "QfSTmtH5Wyuv"
      },
      "execution_count": null,
      "outputs": []
    },
    {
      "cell_type": "markdown",
      "source": [
        "## Definindo mais parâmetros sonoros e sua correspondência com os dados"
      ],
      "metadata": {
        "id": "HbDioFt1gUgm"
      }
    },
    {
      "cell_type": "code",
      "source": [
        "from audioop import avg\n",
        "def process_row(row, sounds):\n",
        "    \"\"\"Para cada linha (i.e. entrevistado), retornar e salva um segmento de áudio, função da biblioteca pydub; otimização do código\"\"\"\n",
        "    # Definido pl_1_value a partir da coluna P1_1 - grau de conhecimento sobre trabalho de plataforma\n",
        "    p_3_value = row.get('PL_3')\n",
        "    if row.get('P1_1') not in INTERVAL_MAP:\n",
        "    # Caso o valor esteja fora da escala 1-4 de P1_1; atribuir 3 (nada)\n",
        "        row.get('P1_1')\n",
        "    if p3_3_value not in INTERVAL_MAP:\n",
        "        p3_3_value =0\n",
        "\n",
        "    missingintervalo = average(row.get('P1_1'), p3_3_value)\n",
        "    affirmative_sounds = []\n",
        "    for col in COLUMN_SOUND_MAP.keys():\n",
        "        value = row.get(col)\n",
        "        if value == 1:\n",
        "            affirmative_sounds.append(sounds[col])\n",
        "\n",
        "    if not affirmative_sounds:\n",
        "        # Em caso de um entrevista com apenas respostas negativas; produzir silêncio\n",
        "        return AudioSegment.silent(duration=SILENCE_DURATION)\n",
        "\n",
        "    # Sobrepondo sons de um conjunto de respostas de um entrevistas\n",
        "    combined = affirmative_sounds[0]\n",
        "    for sound in affirmative_sounds[1:]:\n",
        "        combined = combined.overlay(sound)\n",
        "\n",
        "    # Intervalo para evitar excesso de overlaps\n",
        "    if missingintervalo > 0:\n",
        "        combined_with_intervals = AudioSegment.silent(duration=200)\n",
        "        for sound in affirmative_sounds:\n",
        "            combined_with_intervals += sound + AudioSegment.silent(duration=interval)\n",
        "        combined = combined.overlay(combined_with_intervals)\n",
        "\n",
        "    # Max\n",
        "    return combined[:MAX_ROW_DURATION]\n"
      ],
      "metadata": {
        "id": "8iAlyWcwC8tP"
      },
      "execution_count": null,
      "outputs": []
    },
    {
      "cell_type": "markdown",
      "source": [
        "**Função auxiliar utilizada com process_row para tornar o processamento mais célere**"
      ],
      "metadata": {
        "id": "62p8OCEUSKfk"
      }
    },
    {
      "cell_type": "code",
      "source": [
        "def process_rows_parallel(df, sounds):\n",
        "    with Pool(cpu_count()) as pool:\n",
        "        audio_segments = pool.starmap(process_row, [(row, sounds) for _, row in df.iterrows()])\n",
        "    return sum(audio_segments, AudioSegment.empty())\n"
      ],
      "metadata": {
        "id": "Bg3lj_3bIkWK"
      },
      "execution_count": null,
      "outputs": []
    },
    {
      "cell_type": "code",
      "source": [
        "\n",
        "# Transformar áudio a partir das linhas do df\n",
        "def export_audio(df, sounds, output_file, limit=None):\n",
        "    \"\"\"Generates audio from dataframe rows.\"\"\"\n",
        "    audio = AudioSegment.empty()\n",
        "    for idx, row in df.iterrows():\n",
        "        if limit and idx >= limit:\n",
        "            break\n",
        "        audio_segment = process_row(row, sounds)\n",
        "        audio += audio_segment\n",
        "    audio.export(output_file, format='wav')\n"
      ],
      "metadata": {
        "id": "RDr49g7kY0PO"
      },
      "execution_count": null,
      "outputs": []
    },
    {
      "cell_type": "code",
      "source": [
        "\n",
        "\n",
        "def main():\n",
        "    #  Parser com argumentos\n",
        "\n",
        "    parser = argparse.ArgumentParser(description=\"Processando áudio a partir do data set.\")\n",
        "    parser.add_argument('--input', type=str, required=True, help=\"Path para arquivo XLSX\")\n",
        "    parser.add_argument('--output_test', type=str, required=True, help=\"Path de WAV de teste\")\n",
        "    parser.add_argument('--output_full', type=str, required=True, help=\"Path de WAV completo\")\n",
        "\n",
        "# essa parte é importante para não dar dor-de-cabeça pedindo argumentos CLI em uma execução não-interativa =)\n",
        "\n",
        "    try:\n",
        "        args = parser.parse_args()\n",
        "        input_file = args.input\n",
        "        output_test = args.output_test\n",
        "        output_full = args.output_full\n",
        "    except SystemExit as e:\n",
        "        print(\"Usando valores padrão\")\n",
        "        args = argparse.Namespace(input='data.xlsx', output_test='test_output.wav', output_full='full_output.wav')\n",
        "\n",
        "    # preparando valores padrão\n",
        "    input_file = args.input\n",
        "    output_test = args.output_test\n",
        "    output_full = args.output_full\n",
        "\n",
        "    # Carregando arquivo xlsx\n",
        "    df = pd.read_excel(input_file)\n",
        "\n",
        "    # Carregando mapa de sons\n",
        "    sounds = load_sounds()\n",
        "\n",
        "    # Processar as primeiras 50 linhas para teste\n",
        "    test_audio = process_rows_parallel(df.head(50), sounds)\n",
        "    test_audio = apply_bpm_change(test_audio)\n",
        "    test_audio.export(output_test, format='wav')\n",
        "\n",
        "    # Processar todas as linhas para arquivo final; em grupos para agilizar (no caso, 25)\n",
        "   # batch_size = 25  # Depende da capacidade da CPU e quantidade da RAM; dá pra aumentar ou diminuir (se não funcionar, alterar para \"10\"; remover comentários quando for usar)\n",
        "   # full_audio = AudioSegment.empty()\n",
        "   # for start_idx in range(0, len(df), batch_size):\n",
        "   #     batch = df.iloc[start_idx:start_idx + batch_size]\n",
        "   #     batch_audio = process_rows_parallel(batch, sounds)\n",
        "   #     batch_audio = apply_bpm_change(batch_audio)\n",
        "   #     full_audio += batch_audio\n",
        "\n",
        " # full_audio.export(output_full, format='wav')\n",
        "\n",
        "if __name__ == '__main__':\n",
        "    main()\n"
      ],
      "metadata": {
        "id": "PhbRTYiuC-aI"
      },
      "execution_count": null,
      "outputs": []
    },
    {
      "cell_type": "markdown",
      "source": [
        "## [Cacofonia P1.4, áudio produzido](https://soundcloud.com/waldo-ramalho/sets/sonificacao-das-atividades-associadas-ao-trabalho-de-aplicativo?si=bc4c0fb6ef9e4df3b43afdea9a712b1d&utm_source=clipboard&utm_medium=text&utm_campaign=social_sharing)"
      ],
      "metadata": {
        "id": "j1QCM3pIXzIj"
      }
    },
    {
      "cell_type": "markdown",
      "source": [
        "# Visualizações inclusivas das percepções dos brasileiros sobre o trabalho de aplicativo"
      ],
      "metadata": {
        "id": "cv3r-TxJkJj1"
      }
    },
    {
      "cell_type": "markdown",
      "source": [
        "Um dos principais problemas da efetivação da acessibilidade é o seu custo. Quando fluxos de trabalho, produtos ou materiais são elaborados sem incorporar as diferentes limitações e possibilidades do corpo e do espírito humano, alterá-los, muitas vezes, exigem recursos volumosos.\n",
        "\n",
        "O que será explorado aqui é como reconstituir as visualizações dos dados do relatório original com o mínimo de custo para o desenvolvedor original, em qualquer momento do processo de elaboração da visualização. Para isso, utilizarei a linguagem Python e seu módulo maidr.\n",
        "\n"
      ],
      "metadata": {
        "id": "e-_eLbrRAHX0"
      }
    },
    {
      "cell_type": "markdown",
      "source": [
        "## MAIDR: Multimodal Access and Interactive Data Representation\n"
      ],
      "metadata": {
        "id": "dBx0CEmytR3i"
      }
    },
    {
      "cell_type": "markdown",
      "source": [
        "\n",
        "\n",
        "*O maidr (pronunciado como \"mader\") é um sistema que permite o acesso e controle de gráficos estatísticos sem a necessidade de recursos visuais. Seu objetivo é proporcionar uma experiência inclusiva para usuários com deficiências visuais, oferecendo múltiplos modos de interação: braille, texto e sonificação (BTS). A sonificação é a conversão de dados em sons, permitindo que as informações sejam interpretadas auditivamente. Essa abordagem abrangente melhora a acessibilidade na visualização de dados e incentiva uma exploração multimodal—ou seja, através de diferentes sentidos—da visualização de informações.  \n",
        "(tradução livre da descrição do repositório)* [W]\n",
        "\n",
        "O maidr é um módulo escrito em JavaScript, mas com versões em Python e R. Sua operacionalização computacional é feita através das seguintes etapas:\n",
        "\n",
        "\n",
        "1.   Escrita de código que produza um gráfico em formato SVG (*scalable vector graphics*), um tipo de formato para gráficos vetorizados.\n",
        "2.   Geração de um arquivo HTML (*Hypertext Markup Language*). Esse arquivo é parte essencial da Web e, neste caso, seguirá o formato abaixo:\n",
        "\n",
        "\n",
        "```\n",
        "<!DOCTYPE html>\n",
        "<html lang=\"en\">\n",
        "  <head>\n",
        "    <meta charset=\"UTF-8\" />\n",
        "    <title>maidr Example</title>\n",
        "    <link\n",
        "      rel=\"stylesheet\"\n",
        "      href=\"https://cdn.jsdelivr.net/npm/maidr/dist/maidr_style.min.css\"\n",
        "    />\n",
        "    <script src=\"https://cdn.jsdelivr.net/npm/maidr/dist/maidr.min.js\"></script>\n",
        "  </head>\n",
        "  <body>\n",
        "    <div>\n",
        "      <!-- Your SVG plot is here -->\n",
        "    </div>\n",
        "  </body>\n",
        "</html>\n",
        "```\n",
        "\n",
        "\n",
        "3. Caso o gráfico não tenha sido produzido com o auxílio do próprio Maidr, é necessário incluir os dados representados em formato JSON no próprio arquivo HTML. Por exemplo:\n",
        "\n",
        "\n",
        "\n",
        "```\n",
        "let maidr = {\n",
        "  type: 'box',\n",
        "  id: 'myboxplot',\n",
        "  title: 'Highway Mileage by Car Class.',\n",
        "  axes: {\n",
        "    y: {\n",
        "      label: 'Car Class',\n",
        "      level: [\n",
        "        '2seater',\n",
        "        'compact',\n",
        "        'midsize',\n",
        "        'minivan',\n",
        "        'pickup',\n",
        "        'subcompact',\n",
        "        'suv',\n",
        "      ],\n",
        "    },\n",
        "    x: { label: 'Highway Milage' },\n",
        "  },\n",
        "  selector: '#boxplot1 g[id^=\"panel\"] > g[id^=\"geom_boxplot.gTree\"]',\n",
        "  data: ...\n",
        "}\n",
        "```\n",
        "\n",
        "\n",
        "**Navegação**\n",
        "\n",
        "Teclas de seta: movem os pontos de dados no gráfico.\n",
        "\n",
        "Ctrl+Seta Esquerda / Ctrl+Seta Direita (no Windows e Linux): reproduzem automaticamente os pontos de dados para a esquerda ou para a direita. Isso significa que o sistema percorre os pontos de dados nessa direção sem a necessidade de pressionar as teclas repetidamente.\n",
        "\n",
        "Cmd+Seta Esquerda / Cmd+Seta Direita (no Mac): mesma função que acima, mas para computadores Mac.\n",
        "\n",
        "PageUp / PageDown: alterna entre camadas (atualmente suportado apenas em gráficos de dispersão). Em gráficos complexos com múltiplas camadas de informações, essa função permite navegar entre elas.\n",
        "\n",
        "B: ativa ou desativa o modo braille. Se você utiliza um dispositivo braille, essa tecla permite alternar sua funcionalidade.\n",
        "\n",
        "T: alterna o anúncio de texto. Pressionar \"T\" cicla entre os modos \"conciso\", \"detalhado\" e \"desligado\", ajustando a quantidade de informação textual fornecida.\n",
        "\n",
        "S: ativa ou desativa a sonificação (som espacial). A sonificação é a conversão de dados em sons, permitindo que você interprete as informações auditivamente.\n",
        "\n",
        "H: abre o menu de Ajuda e configurações, onde é possível ajustar as preferências do sistema.\n",
        "\n",
        "Ctrl+Shift+/ (no Windows e Linux): ativa ou desativa o chat com IA/LLM (Modelo de Linguagem de Aprendizado Profundo). Isso permite interagir com um assistente de inteligência artificial para obter ajuda adicional.\n",
        "\n",
        "Opt+Shift+/ (no Mac): mesma função que acima, mas para computadores Mac.\n",
        "\n",
        "\n",
        "Abaixo, uma tabela de atalhos adaptada do repositório.\n",
        "\n",
        "\n",
        "| Função                           | Tecla (Windows)            | Tecla (Mac)                      |\n",
        "|-----------------------------------|----------------------------|----------------------------------|\n",
        "| Mover pelo gráfico                | Teclas de seta             | Teclas de seta                   |\n",
        "| Ir para a borda (esquerda, direita, cima ou baixo) | Control + Tecla de seta   | Command + Tecla de seta          |\n",
        "| Selecionar o primeiro elemento    | Control + Home             | Command + Function + Esquerda    |\n",
        "| Selecionar o último elemento      | Control + End              | Control + Function + Direita     |\n",
        "| Alternar Modo Braille             | B                          | B                                |\n",
        "| Alternar Modo de Sonificação      | S                          | S                                |\n",
        "| Alternar Modo de Texto            | T                          | T                                |\n",
        "| Alternar Modo de Texto (opcional) | R                          | R                                |\n",
        "| Repetir som atual                 | Espaço                     | Espaço                           |\n",
        "| Reprodução automática para fora na direção da seta | Control + Shift + Tecla de seta | Command + Shift + Tecla de seta  |\n",
        "| Reprodução automática para dentro na direção da seta | Alt + Shift + Tecla de seta | Option + Shift + Tecla de seta   |\n",
        "| Parar Reprodução automática       | Control                    | Command                          |\n",
        "| Acelerar Reprodução automática    | Ponto (.)                  | Ponto (.)                        |\n",
        "| Desacelerar Reprodução automática | Vírgula (,)                | Vírgula (,)                      |\n",
        "\n"
      ],
      "metadata": {
        "id": "EaFWIeuDuKjv"
      }
    },
    {
      "cell_type": "markdown",
      "source": [
        "## Utilizando madr para prototipar o gráfico \"Grau de conhecimento\""
      ],
      "metadata": {
        "id": "sQ1qLOe6UnbF"
      }
    },
    {
      "cell_type": "code",
      "source": [
        "%pip uninstall ipykernel -y -q -q -q\n",
        "%pip install -U ipykernel -q -q -q\n",
        "# Após, ambiente de execução -> reiniciar sessão, conforme sugerido nessa issue (https://github.com/mckinsey/vizro/issues/175)"
      ],
      "metadata": {
        "id": "ZCMBhtyxbyL1",
        "colab": {
          "base_uri": "https://localhost:8080/"
        },
        "outputId": "6a57fc41-f106-4eed-8788-691e9ec2832e"
      },
      "execution_count": null,
      "outputs": [
        {
          "output_type": "stream",
          "name": "stdout",
          "text": [
            "\u001b[31mERROR: pip's dependency resolver does not currently take into account all the packages that are installed. This behaviour is the source of the following dependency conflicts.\n",
            "google-colab 1.0.0 requires ipykernel==5.5.6, but you have ipykernel 6.29.5 which is incompatible.\u001b[0m\u001b[31m\n",
            "\u001b[0m"
          ]
        }
      ]
    },
    {
      "cell_type": "code",
      "source": [
        "!pip install -U maidr #git+https://github.com/xability/py_maidr.git"
      ],
      "metadata": {
        "colab": {
          "base_uri": "https://localhost:8080/"
        },
        "id": "oCVKz8fpTued",
        "outputId": "a20b50a2-abff-4283-a248-747f47c9cf8e"
      },
      "execution_count": null,
      "outputs": [
        {
          "output_type": "stream",
          "name": "stdout",
          "text": [
            "Requirement already satisfied: maidr in /usr/local/lib/python3.10/dist-packages (0.10.2)\n",
            "Requirement already satisfied: htmltools>=0.5 in /usr/local/lib/python3.10/dist-packages (from maidr) (0.5.3)\n",
            "Requirement already satisfied: jupyter<2.0.0,>=1.0.0 in /usr/local/lib/python3.10/dist-packages (from maidr) (1.1.1)\n",
            "Requirement already satisfied: lxml>=5.1.0 in /usr/local/lib/python3.10/dist-packages (from maidr) (5.3.0)\n",
            "Requirement already satisfied: matplotlib>=3.8 in /usr/local/lib/python3.10/dist-packages (from maidr) (3.9.2)\n",
            "Requirement already satisfied: numpy>=1.26 in /usr/local/lib/python3.10/dist-packages (from maidr) (1.26.4)\n",
            "Requirement already satisfied: seaborn>=0.12 in /usr/local/lib/python3.10/dist-packages (from maidr) (0.13.2)\n",
            "Requirement already satisfied: wrapt<2.0.0,>=1.16.0 in /usr/local/lib/python3.10/dist-packages (from maidr) (1.16.0)\n",
            "Requirement already satisfied: typing-extensions>=3.10.0.0 in /usr/local/lib/python3.10/dist-packages (from htmltools>=0.5->maidr) (4.12.2)\n",
            "Requirement already satisfied: packaging>=20.9 in /usr/local/lib/python3.10/dist-packages (from htmltools>=0.5->maidr) (24.1)\n",
            "Requirement already satisfied: notebook in /usr/local/lib/python3.10/dist-packages (from jupyter<2.0.0,>=1.0.0->maidr) (6.5.5)\n",
            "Requirement already satisfied: jupyter-console in /usr/local/lib/python3.10/dist-packages (from jupyter<2.0.0,>=1.0.0->maidr) (6.1.0)\n",
            "Requirement already satisfied: nbconvert in /usr/local/lib/python3.10/dist-packages (from jupyter<2.0.0,>=1.0.0->maidr) (6.5.4)\n",
            "Requirement already satisfied: ipykernel in /usr/local/lib/python3.10/dist-packages (from jupyter<2.0.0,>=1.0.0->maidr) (6.29.5)\n",
            "Requirement already satisfied: ipywidgets in /usr/local/lib/python3.10/dist-packages (from jupyter<2.0.0,>=1.0.0->maidr) (7.7.1)\n",
            "Requirement already satisfied: jupyterlab in /usr/local/lib/python3.10/dist-packages (from jupyter<2.0.0,>=1.0.0->maidr) (4.2.5)\n",
            "Requirement already satisfied: contourpy>=1.0.1 in /usr/local/lib/python3.10/dist-packages (from matplotlib>=3.8->maidr) (1.3.0)\n",
            "Requirement already satisfied: cycler>=0.10 in /usr/local/lib/python3.10/dist-packages (from matplotlib>=3.8->maidr) (0.12.1)\n",
            "Requirement already satisfied: fonttools>=4.22.0 in /usr/local/lib/python3.10/dist-packages (from matplotlib>=3.8->maidr) (4.54.1)\n",
            "Requirement already satisfied: kiwisolver>=1.3.1 in /usr/local/lib/python3.10/dist-packages (from matplotlib>=3.8->maidr) (1.4.7)\n",
            "Requirement already satisfied: pillow>=8 in /usr/local/lib/python3.10/dist-packages (from matplotlib>=3.8->maidr) (10.4.0)\n",
            "Requirement already satisfied: pyparsing>=2.3.1 in /usr/local/lib/python3.10/dist-packages (from matplotlib>=3.8->maidr) (3.2.0)\n",
            "Requirement already satisfied: python-dateutil>=2.7 in /usr/local/lib/python3.10/dist-packages (from matplotlib>=3.8->maidr) (2.8.2)\n",
            "Requirement already satisfied: pandas>=1.2 in /usr/local/lib/python3.10/dist-packages (from seaborn>=0.12->maidr) (2.2.2)\n",
            "Requirement already satisfied: pytz>=2020.1 in /usr/local/lib/python3.10/dist-packages (from pandas>=1.2->seaborn>=0.12->maidr) (2024.2)\n",
            "Requirement already satisfied: tzdata>=2022.7 in /usr/local/lib/python3.10/dist-packages (from pandas>=1.2->seaborn>=0.12->maidr) (2024.2)\n",
            "Requirement already satisfied: six>=1.5 in /usr/local/lib/python3.10/dist-packages (from python-dateutil>=2.7->matplotlib>=3.8->maidr) (1.16.0)\n",
            "Requirement already satisfied: comm>=0.1.1 in /usr/local/lib/python3.10/dist-packages (from ipykernel->jupyter<2.0.0,>=1.0.0->maidr) (0.2.2)\n",
            "Requirement already satisfied: debugpy>=1.6.5 in /usr/local/lib/python3.10/dist-packages (from ipykernel->jupyter<2.0.0,>=1.0.0->maidr) (1.6.6)\n",
            "Requirement already satisfied: ipython>=7.23.1 in /usr/local/lib/python3.10/dist-packages (from ipykernel->jupyter<2.0.0,>=1.0.0->maidr) (7.34.0)\n",
            "Requirement already satisfied: jupyter-client>=6.1.12 in /usr/local/lib/python3.10/dist-packages (from ipykernel->jupyter<2.0.0,>=1.0.0->maidr) (7.4.9)\n",
            "Requirement already satisfied: jupyter-core!=5.0.*,>=4.12 in /usr/local/lib/python3.10/dist-packages (from ipykernel->jupyter<2.0.0,>=1.0.0->maidr) (5.7.2)\n",
            "Requirement already satisfied: matplotlib-inline>=0.1 in /usr/local/lib/python3.10/dist-packages (from ipykernel->jupyter<2.0.0,>=1.0.0->maidr) (0.1.7)\n",
            "Requirement already satisfied: nest-asyncio in /usr/local/lib/python3.10/dist-packages (from ipykernel->jupyter<2.0.0,>=1.0.0->maidr) (1.6.0)\n",
            "Requirement already satisfied: psutil in /usr/local/lib/python3.10/dist-packages (from ipykernel->jupyter<2.0.0,>=1.0.0->maidr) (5.9.5)\n",
            "Requirement already satisfied: pyzmq>=24 in /usr/local/lib/python3.10/dist-packages (from ipykernel->jupyter<2.0.0,>=1.0.0->maidr) (24.0.1)\n",
            "Requirement already satisfied: tornado>=6.1 in /usr/local/lib/python3.10/dist-packages (from ipykernel->jupyter<2.0.0,>=1.0.0->maidr) (6.3.3)\n",
            "Requirement already satisfied: traitlets>=5.4.0 in /usr/local/lib/python3.10/dist-packages (from ipykernel->jupyter<2.0.0,>=1.0.0->maidr) (5.7.1)\n",
            "Requirement already satisfied: ipython-genutils~=0.2.0 in /usr/local/lib/python3.10/dist-packages (from ipywidgets->jupyter<2.0.0,>=1.0.0->maidr) (0.2.0)\n",
            "Requirement already satisfied: widgetsnbextension~=3.6.0 in /usr/local/lib/python3.10/dist-packages (from ipywidgets->jupyter<2.0.0,>=1.0.0->maidr) (3.6.9)\n",
            "Requirement already satisfied: jupyterlab-widgets>=1.0.0 in /usr/local/lib/python3.10/dist-packages (from ipywidgets->jupyter<2.0.0,>=1.0.0->maidr) (3.0.13)\n",
            "Requirement already satisfied: prompt-toolkit!=3.0.0,!=3.0.1,<3.1.0,>=2.0.0 in /usr/local/lib/python3.10/dist-packages (from jupyter-console->jupyter<2.0.0,>=1.0.0->maidr) (3.0.48)\n",
            "Requirement already satisfied: pygments in /usr/local/lib/python3.10/dist-packages (from jupyter-console->jupyter<2.0.0,>=1.0.0->maidr) (2.18.0)\n",
            "Requirement already satisfied: async-lru>=1.0.0 in /usr/local/lib/python3.10/dist-packages (from jupyterlab->jupyter<2.0.0,>=1.0.0->maidr) (2.0.4)\n",
            "Requirement already satisfied: httpx>=0.25.0 in /usr/local/lib/python3.10/dist-packages (from jupyterlab->jupyter<2.0.0,>=1.0.0->maidr) (0.27.2)\n",
            "Requirement already satisfied: jinja2>=3.0.3 in /usr/local/lib/python3.10/dist-packages (from jupyterlab->jupyter<2.0.0,>=1.0.0->maidr) (3.1.4)\n",
            "Requirement already satisfied: jupyter-lsp>=2.0.0 in /usr/local/lib/python3.10/dist-packages (from jupyterlab->jupyter<2.0.0,>=1.0.0->maidr) (2.2.5)\n",
            "Requirement already satisfied: jupyter-server<3,>=2.4.0 in /usr/local/lib/python3.10/dist-packages (from jupyterlab->jupyter<2.0.0,>=1.0.0->maidr) (2.14.2)\n",
            "Requirement already satisfied: jupyterlab-server<3,>=2.27.1 in /usr/local/lib/python3.10/dist-packages (from jupyterlab->jupyter<2.0.0,>=1.0.0->maidr) (2.27.3)\n",
            "Requirement already satisfied: notebook-shim>=0.2 in /usr/local/lib/python3.10/dist-packages (from jupyterlab->jupyter<2.0.0,>=1.0.0->maidr) (0.2.4)\n",
            "Requirement already satisfied: setuptools>=40.1.0 in /usr/local/lib/python3.10/dist-packages (from jupyterlab->jupyter<2.0.0,>=1.0.0->maidr) (75.1.0)\n",
            "Requirement already satisfied: tomli>=1.2.2 in /usr/local/lib/python3.10/dist-packages (from jupyterlab->jupyter<2.0.0,>=1.0.0->maidr) (2.0.2)\n",
            "Requirement already satisfied: beautifulsoup4 in /usr/local/lib/python3.10/dist-packages (from nbconvert->jupyter<2.0.0,>=1.0.0->maidr) (4.12.3)\n",
            "Requirement already satisfied: bleach in /usr/local/lib/python3.10/dist-packages (from nbconvert->jupyter<2.0.0,>=1.0.0->maidr) (6.1.0)\n",
            "Requirement already satisfied: defusedxml in /usr/local/lib/python3.10/dist-packages (from nbconvert->jupyter<2.0.0,>=1.0.0->maidr) (0.7.1)\n",
            "Requirement already satisfied: entrypoints>=0.2.2 in /usr/local/lib/python3.10/dist-packages (from nbconvert->jupyter<2.0.0,>=1.0.0->maidr) (0.4)\n",
            "Requirement already satisfied: jupyterlab-pygments in /usr/local/lib/python3.10/dist-packages (from nbconvert->jupyter<2.0.0,>=1.0.0->maidr) (0.3.0)\n",
            "Requirement already satisfied: MarkupSafe>=2.0 in /usr/local/lib/python3.10/dist-packages (from nbconvert->jupyter<2.0.0,>=1.0.0->maidr) (3.0.2)\n",
            "Requirement already satisfied: mistune<2,>=0.8.1 in /usr/local/lib/python3.10/dist-packages (from nbconvert->jupyter<2.0.0,>=1.0.0->maidr) (0.8.4)\n",
            "Requirement already satisfied: nbclient>=0.5.0 in /usr/local/lib/python3.10/dist-packages (from nbconvert->jupyter<2.0.0,>=1.0.0->maidr) (0.10.0)\n",
            "Requirement already satisfied: nbformat>=5.1 in /usr/local/lib/python3.10/dist-packages (from nbconvert->jupyter<2.0.0,>=1.0.0->maidr) (5.10.4)\n",
            "Requirement already satisfied: pandocfilters>=1.4.1 in /usr/local/lib/python3.10/dist-packages (from nbconvert->jupyter<2.0.0,>=1.0.0->maidr) (1.5.1)\n",
            "Requirement already satisfied: tinycss2 in /usr/local/lib/python3.10/dist-packages (from nbconvert->jupyter<2.0.0,>=1.0.0->maidr) (1.3.0)\n",
            "Requirement already satisfied: argon2-cffi in /usr/local/lib/python3.10/dist-packages (from notebook->jupyter<2.0.0,>=1.0.0->maidr) (23.1.0)\n",
            "Requirement already satisfied: Send2Trash>=1.8.0 in /usr/local/lib/python3.10/dist-packages (from notebook->jupyter<2.0.0,>=1.0.0->maidr) (1.8.3)\n",
            "Requirement already satisfied: terminado>=0.8.3 in /usr/local/lib/python3.10/dist-packages (from notebook->jupyter<2.0.0,>=1.0.0->maidr) (0.18.1)\n",
            "Requirement already satisfied: prometheus-client in /usr/local/lib/python3.10/dist-packages (from notebook->jupyter<2.0.0,>=1.0.0->maidr) (0.21.0)\n",
            "Requirement already satisfied: nbclassic>=0.4.7 in /usr/local/lib/python3.10/dist-packages (from notebook->jupyter<2.0.0,>=1.0.0->maidr) (1.1.0)\n",
            "Requirement already satisfied: anyio in /usr/local/lib/python3.10/dist-packages (from httpx>=0.25.0->jupyterlab->jupyter<2.0.0,>=1.0.0->maidr) (3.7.1)\n",
            "Requirement already satisfied: certifi in /usr/local/lib/python3.10/dist-packages (from httpx>=0.25.0->jupyterlab->jupyter<2.0.0,>=1.0.0->maidr) (2024.8.30)\n",
            "Requirement already satisfied: httpcore==1.* in /usr/local/lib/python3.10/dist-packages (from httpx>=0.25.0->jupyterlab->jupyter<2.0.0,>=1.0.0->maidr) (1.0.6)\n",
            "Requirement already satisfied: idna in /usr/local/lib/python3.10/dist-packages (from httpx>=0.25.0->jupyterlab->jupyter<2.0.0,>=1.0.0->maidr) (3.10)\n",
            "Requirement already satisfied: sniffio in /usr/local/lib/python3.10/dist-packages (from httpx>=0.25.0->jupyterlab->jupyter<2.0.0,>=1.0.0->maidr) (1.3.1)\n",
            "Requirement already satisfied: h11<0.15,>=0.13 in /usr/local/lib/python3.10/dist-packages (from httpcore==1.*->httpx>=0.25.0->jupyterlab->jupyter<2.0.0,>=1.0.0->maidr) (0.14.0)\n",
            "Requirement already satisfied: jedi>=0.16 in /usr/local/lib/python3.10/dist-packages (from ipython>=7.23.1->ipykernel->jupyter<2.0.0,>=1.0.0->maidr) (0.19.1)\n",
            "Requirement already satisfied: decorator in /usr/local/lib/python3.10/dist-packages (from ipython>=7.23.1->ipykernel->jupyter<2.0.0,>=1.0.0->maidr) (4.4.2)\n",
            "Requirement already satisfied: pickleshare in /usr/local/lib/python3.10/dist-packages (from ipython>=7.23.1->ipykernel->jupyter<2.0.0,>=1.0.0->maidr) (0.7.5)\n",
            "Requirement already satisfied: backcall in /usr/local/lib/python3.10/dist-packages (from ipython>=7.23.1->ipykernel->jupyter<2.0.0,>=1.0.0->maidr) (0.2.0)\n",
            "Requirement already satisfied: pexpect>4.3 in /usr/local/lib/python3.10/dist-packages (from ipython>=7.23.1->ipykernel->jupyter<2.0.0,>=1.0.0->maidr) (4.9.0)\n",
            "Requirement already satisfied: platformdirs>=2.5 in /usr/local/lib/python3.10/dist-packages (from jupyter-core!=5.0.*,>=4.12->ipykernel->jupyter<2.0.0,>=1.0.0->maidr) (4.3.6)\n",
            "Requirement already satisfied: jupyter-events>=0.9.0 in /usr/local/lib/python3.10/dist-packages (from jupyter-server<3,>=2.4.0->jupyterlab->jupyter<2.0.0,>=1.0.0->maidr) (0.10.0)\n",
            "Requirement already satisfied: jupyter-server-terminals>=0.4.4 in /usr/local/lib/python3.10/dist-packages (from jupyter-server<3,>=2.4.0->jupyterlab->jupyter<2.0.0,>=1.0.0->maidr) (0.5.3)\n",
            "Requirement already satisfied: overrides>=5.0 in /usr/local/lib/python3.10/dist-packages (from jupyter-server<3,>=2.4.0->jupyterlab->jupyter<2.0.0,>=1.0.0->maidr) (7.7.0)\n",
            "Requirement already satisfied: websocket-client>=1.7 in /usr/local/lib/python3.10/dist-packages (from jupyter-server<3,>=2.4.0->jupyterlab->jupyter<2.0.0,>=1.0.0->maidr) (1.8.0)\n",
            "Requirement already satisfied: argon2-cffi-bindings in /usr/local/lib/python3.10/dist-packages (from argon2-cffi->notebook->jupyter<2.0.0,>=1.0.0->maidr) (21.2.0)\n",
            "Requirement already satisfied: babel>=2.10 in /usr/local/lib/python3.10/dist-packages (from jupyterlab-server<3,>=2.27.1->jupyterlab->jupyter<2.0.0,>=1.0.0->maidr) (2.16.0)\n",
            "Requirement already satisfied: json5>=0.9.0 in /usr/local/lib/python3.10/dist-packages (from jupyterlab-server<3,>=2.27.1->jupyterlab->jupyter<2.0.0,>=1.0.0->maidr) (0.9.25)\n",
            "Requirement already satisfied: jsonschema>=4.18.0 in /usr/local/lib/python3.10/dist-packages (from jupyterlab-server<3,>=2.27.1->jupyterlab->jupyter<2.0.0,>=1.0.0->maidr) (4.23.0)\n",
            "Requirement already satisfied: requests>=2.31 in /usr/local/lib/python3.10/dist-packages (from jupyterlab-server<3,>=2.27.1->jupyterlab->jupyter<2.0.0,>=1.0.0->maidr) (2.32.3)\n",
            "Requirement already satisfied: fastjsonschema>=2.15 in /usr/local/lib/python3.10/dist-packages (from nbformat>=5.1->nbconvert->jupyter<2.0.0,>=1.0.0->maidr) (2.20.0)\n",
            "Requirement already satisfied: wcwidth in /usr/local/lib/python3.10/dist-packages (from prompt-toolkit!=3.0.0,!=3.0.1,<3.1.0,>=2.0.0->jupyter-console->jupyter<2.0.0,>=1.0.0->maidr) (0.2.13)\n",
            "Requirement already satisfied: ptyprocess in /usr/local/lib/python3.10/dist-packages (from terminado>=0.8.3->notebook->jupyter<2.0.0,>=1.0.0->maidr) (0.7.0)\n",
            "Requirement already satisfied: soupsieve>1.2 in /usr/local/lib/python3.10/dist-packages (from beautifulsoup4->nbconvert->jupyter<2.0.0,>=1.0.0->maidr) (2.6)\n",
            "Requirement already satisfied: webencodings in /usr/local/lib/python3.10/dist-packages (from bleach->nbconvert->jupyter<2.0.0,>=1.0.0->maidr) (0.5.1)\n",
            "Requirement already satisfied: exceptiongroup in /usr/local/lib/python3.10/dist-packages (from anyio->httpx>=0.25.0->jupyterlab->jupyter<2.0.0,>=1.0.0->maidr) (1.2.2)\n",
            "Requirement already satisfied: parso<0.9.0,>=0.8.3 in /usr/local/lib/python3.10/dist-packages (from jedi>=0.16->ipython>=7.23.1->ipykernel->jupyter<2.0.0,>=1.0.0->maidr) (0.8.4)\n",
            "Requirement already satisfied: attrs>=22.2.0 in /usr/local/lib/python3.10/dist-packages (from jsonschema>=4.18.0->jupyterlab-server<3,>=2.27.1->jupyterlab->jupyter<2.0.0,>=1.0.0->maidr) (24.2.0)\n",
            "Requirement already satisfied: jsonschema-specifications>=2023.03.6 in /usr/local/lib/python3.10/dist-packages (from jsonschema>=4.18.0->jupyterlab-server<3,>=2.27.1->jupyterlab->jupyter<2.0.0,>=1.0.0->maidr) (2024.10.1)\n",
            "Requirement already satisfied: referencing>=0.28.4 in /usr/local/lib/python3.10/dist-packages (from jsonschema>=4.18.0->jupyterlab-server<3,>=2.27.1->jupyterlab->jupyter<2.0.0,>=1.0.0->maidr) (0.35.1)\n",
            "Requirement already satisfied: rpds-py>=0.7.1 in /usr/local/lib/python3.10/dist-packages (from jsonschema>=4.18.0->jupyterlab-server<3,>=2.27.1->jupyterlab->jupyter<2.0.0,>=1.0.0->maidr) (0.20.0)\n",
            "Requirement already satisfied: python-json-logger>=2.0.4 in /usr/local/lib/python3.10/dist-packages (from jupyter-events>=0.9.0->jupyter-server<3,>=2.4.0->jupyterlab->jupyter<2.0.0,>=1.0.0->maidr) (2.0.7)\n",
            "Requirement already satisfied: pyyaml>=5.3 in /usr/local/lib/python3.10/dist-packages (from jupyter-events>=0.9.0->jupyter-server<3,>=2.4.0->jupyterlab->jupyter<2.0.0,>=1.0.0->maidr) (6.0.2)\n",
            "Requirement already satisfied: rfc3339-validator in /usr/local/lib/python3.10/dist-packages (from jupyter-events>=0.9.0->jupyter-server<3,>=2.4.0->jupyterlab->jupyter<2.0.0,>=1.0.0->maidr) (0.1.4)\n",
            "Requirement already satisfied: rfc3986-validator>=0.1.1 in /usr/local/lib/python3.10/dist-packages (from jupyter-events>=0.9.0->jupyter-server<3,>=2.4.0->jupyterlab->jupyter<2.0.0,>=1.0.0->maidr) (0.1.1)\n",
            "Requirement already satisfied: charset-normalizer<4,>=2 in /usr/local/lib/python3.10/dist-packages (from requests>=2.31->jupyterlab-server<3,>=2.27.1->jupyterlab->jupyter<2.0.0,>=1.0.0->maidr) (3.4.0)\n",
            "Requirement already satisfied: urllib3<3,>=1.21.1 in /usr/local/lib/python3.10/dist-packages (from requests>=2.31->jupyterlab-server<3,>=2.27.1->jupyterlab->jupyter<2.0.0,>=1.0.0->maidr) (2.2.3)\n",
            "Requirement already satisfied: cffi>=1.0.1 in /usr/local/lib/python3.10/dist-packages (from argon2-cffi-bindings->argon2-cffi->notebook->jupyter<2.0.0,>=1.0.0->maidr) (1.17.1)\n",
            "Requirement already satisfied: pycparser in /usr/local/lib/python3.10/dist-packages (from cffi>=1.0.1->argon2-cffi-bindings->argon2-cffi->notebook->jupyter<2.0.0,>=1.0.0->maidr) (2.22)\n",
            "Requirement already satisfied: fqdn in /usr/local/lib/python3.10/dist-packages (from jsonschema[format-nongpl]>=4.18.0->jupyter-events>=0.9.0->jupyter-server<3,>=2.4.0->jupyterlab->jupyter<2.0.0,>=1.0.0->maidr) (1.5.1)\n",
            "Requirement already satisfied: isoduration in /usr/local/lib/python3.10/dist-packages (from jsonschema[format-nongpl]>=4.18.0->jupyter-events>=0.9.0->jupyter-server<3,>=2.4.0->jupyterlab->jupyter<2.0.0,>=1.0.0->maidr) (20.11.0)\n",
            "Requirement already satisfied: jsonpointer>1.13 in /usr/local/lib/python3.10/dist-packages (from jsonschema[format-nongpl]>=4.18.0->jupyter-events>=0.9.0->jupyter-server<3,>=2.4.0->jupyterlab->jupyter<2.0.0,>=1.0.0->maidr) (3.0.0)\n",
            "Requirement already satisfied: uri-template in /usr/local/lib/python3.10/dist-packages (from jsonschema[format-nongpl]>=4.18.0->jupyter-events>=0.9.0->jupyter-server<3,>=2.4.0->jupyterlab->jupyter<2.0.0,>=1.0.0->maidr) (1.3.0)\n",
            "Requirement already satisfied: webcolors>=24.6.0 in /usr/local/lib/python3.10/dist-packages (from jsonschema[format-nongpl]>=4.18.0->jupyter-events>=0.9.0->jupyter-server<3,>=2.4.0->jupyterlab->jupyter<2.0.0,>=1.0.0->maidr) (24.8.0)\n",
            "Requirement already satisfied: arrow>=0.15.0 in /usr/local/lib/python3.10/dist-packages (from isoduration->jsonschema[format-nongpl]>=4.18.0->jupyter-events>=0.9.0->jupyter-server<3,>=2.4.0->jupyterlab->jupyter<2.0.0,>=1.0.0->maidr) (1.3.0)\n",
            "Requirement already satisfied: types-python-dateutil>=2.8.10 in /usr/local/lib/python3.10/dist-packages (from arrow>=0.15.0->isoduration->jsonschema[format-nongpl]>=4.18.0->jupyter-events>=0.9.0->jupyter-server<3,>=2.4.0->jupyterlab->jupyter<2.0.0,>=1.0.0->maidr) (2.9.0.20241003)\n"
          ]
        }
      ]
    },
    {
      "cell_type": "code",
      "source": [
        "import matplotlib.pyplot as plt\n",
        "import seaborn as sns\n",
        "import numpy as np\n",
        "import maidr\n",
        "import IPython\n",
        "import os\n",
        "import pandas as pd\n",
        "from google.colab import files"
      ],
      "metadata": {
        "id": "x_mEqmSdT0zA"
      },
      "execution_count": null,
      "outputs": []
    },
    {
      "cell_type": "code",
      "source": [
        "\n",
        "from matplotlib.backends.backend_svg import FigureCanvasSVG\n",
        "\n",
        "# Dados das barras\n",
        "bars = [\n",
        "    {\n",
        "        'total_percentage': 46,\n",
        "        'segments': [12, 34, 54],  # Percentages for each segment (sum to 100)\n",
        "        'labels_above': ['12%', '34%', ''],\n",
        "        'labels_below': ['Muito', 'Mais ou menos', ''],\n",
        "        'colors': ['#008080', '#20B2AA', '#D3D3D3'],  # Teal tones and gray\n",
        "        'ids': ['bar1_segment1', 'bar1_segment2', 'bar1_segment3']  # Unique IDs\n",
        "    },\n",
        "    {\n",
        "        'total_percentage': 52,\n",
        "        'segments': [28, 24, 48],\n",
        "        'labels_above': ['28%', '24%', ''],\n",
        "        'labels_below': ['Um pouco', 'Nada', ''],\n",
        "        'colors': ['#800080', '#9370DB', '#D3D3D3'],  # Purple tones and gray\n",
        "        'ids': ['bar2_segment1', 'bar2_segment2', 'bar2_segment3']  # Unique IDs\n",
        "    }\n",
        "]\n",
        "\n",
        "fig, ax = plt.subplots(figsize=(8, 3))\n",
        "\n",
        "# Loop de barras e segmentos pra SVG\n",
        "for idx, bar in enumerate(bars):\n",
        "    y_position = idx\n",
        "    segments = bar['segments']\n",
        "    left_positions = np.cumsum([0] + segments[:-1])\n",
        "    colors = bar['colors']\n",
        "    labels_above = bar['labels_above']\n",
        "    labels_below = bar['labels_below']\n",
        "    total_percentage = bar['total_percentage']\n",
        "    segment_ids = bar['ids']\n",
        "\n",
        "    # Segments\n",
        "    for i in range(len(segments)):\n",
        "        rects = ax.barh(\n",
        "            y_position,\n",
        "            segments[i],\n",
        "            left=left_positions[i],\n",
        "            color=colors[i],\n",
        "            height=0.3,\n",
        "            edgecolor='white'\n",
        "        )\n",
        "        # ID\n",
        "        rects[0].set_gid(segment_ids[i])\n",
        "\n",
        "    # Percentuais\n",
        "    ax.text(-5, y_position, f\"{total_percentage}%\", fontsize=14, va='center', ha='right', fontweight='bold')\n",
        "\n",
        "\n",
        "    for i in range(len(segments)-1):\n",
        "        x_position = left_positions[i] + segments[i]/2\n",
        "        ax.text(x_position, y_position + 0.15, labels_above[i], fontsize=10, ha='center', va='bottom')\n",
        "\n",
        "    # Labels\n",
        "    for i in range(len(segments)-1):\n",
        "        x_position = left_positions[i] + segments[i]/2\n",
        "        ax.text(x_position, y_position - 0.15, labels_below[i], fontsize=10, ha='center', va='top')\n",
        "\n",
        "\n",
        "ax.axis('off')\n",
        "ax.set_xlim(-15, 100)\n",
        "ax.set_ylim(-0.5, len(bars) - 0.5)\n",
        "\n",
        "plt.tight_layout()\n",
        "\n",
        "# Salvar como SVG\n",
        "canvas = FigureCanvasSVG(fig)\n",
        "canvas.print_svg('stacked_barplot.svg')\n",
        "\n",
        "plt.show()\n"
      ],
      "metadata": {
        "id": "v1VGaV2AUUJj",
        "colab": {
          "base_uri": "https://localhost:8080/",
          "height": 225
        },
        "outputId": "0e0edbb8-c943-4e73-8e6b-c7d83ee33d6b"
      },
      "execution_count": null,
      "outputs": [
        {
          "output_type": "display_data",
          "data": {
            "text/plain": [
              "<Figure size 576x216 with 1 Axes>"
            ],
            "image/png": "[encoded data removed]"
          },
          "metadata": {}
        }
      ]
    },
    {
      "cell_type": "code",
      "source": [
        "import matplotlib.pyplot as plt\n",
        "import numpy as np\n",
        "import maidr\n",
        "\n",
        "# Data for both bars\n",
        "bars = [\n",
        "    {\n",
        "        'total_percentage': 46,\n",
        "        'segments': [12, 34, 54],\n",
        "        'labels_above': ['12%', '34%', ''],\n",
        "        'labels_below': ['Muito', 'Mais ou menos', ''],\n",
        "        'colors': ['#008080', '#20B2AA', '#D3D3D3'],\n",
        "        'ids': ['bar1_segment1', 'bar1_segment2', 'bar1_segment3']\n",
        "    },\n",
        "    {\n",
        "        'total_percentage': 52,\n",
        "        'segments': [28, 24, 48],\n",
        "        'labels_above': ['28%', '24%', ''],\n",
        "        'labels_below': ['Um pouco', 'Nada', ''],\n",
        "        'colors': ['#800080', '#9370DB', '#D3D3D3'],\n",
        "        'ids': ['bar2_segment1', 'bar2_segment2', 'bar2_segment3']\n",
        "    }\n",
        "]\n",
        "\n",
        "fig, ax = plt.subplots(figsize=(8, 3))\n",
        "\n",
        "# Store all rectangles for maidr\n",
        "rects_list = []\n",
        "\n",
        "# Plot each bar\n",
        "for idx, bar in enumerate(bars):\n",
        "    y_position = idx  # Positions at y=0 and y=1\n",
        "    segments = bar['segments']\n",
        "    left_positions = np.cumsum([0] + segments[:-1])\n",
        "    colors = bar['colors']\n",
        "    labels_above = bar['labels_above']\n",
        "    labels_below = bar['labels_below']\n",
        "    total_percentage = bar['total_percentage']\n",
        "    segment_ids = bar['ids']\n",
        "\n",
        "    # Plot the segments\n",
        "    for i in range(len(segments)):\n",
        "        rects = ax.barh(\n",
        "            y_position,\n",
        "            segments[i],\n",
        "            left=left_positions[i],\n",
        "            color=colors[i],\n",
        "            height=0.3,\n",
        "            edgecolor='white',\n",
        "            label=segment_ids[i]\n",
        "        )\n",
        "        rects[0].set_gid(segment_ids[i])  # Assign unique ID\n",
        "        rects_list.append(rects[0])\n",
        "\n",
        "    # Place total percentage on the left side\n",
        "    ax.text(-5, y_position, f\"{total_percentage}%\", fontsize=14, va='center', ha='right', fontweight='bold')\n",
        "\n",
        "    # Place percentage values above the segments\n",
        "    for i in range(len(segments) - 1):  # Don't label the last gray segment\n",
        "        x_position = left_positions[i] + segments[i] / 2\n",
        "        ax.text(x_position, y_position + 0.15, labels_above[i], fontsize=10, ha='center', va='bottom')\n",
        "\n",
        "    # Place description labels below the segments\n",
        "    for i in range(len(segments) - 1):\n",
        "        x_position = left_positions[i] + segments[i] / 2\n",
        "        ax.text(x_position, y_position - 0.15, labels_below[i], fontsize=10, ha='center', va='top')\n",
        "\n",
        "ax.axis('off')\n",
        "ax.set_xlim(-15, 100)\n",
        "ax.set_ylim(-0.5, len(bars) - 0.5)\n",
        "\n",
        "plt.tight_layout()\n",
        "\n",
        "\n",
        "# Create the maidr stacked bar object\n",
        "stacked_maidr = maidr.stacked(ax)\n",
        "\n",
        "\n"
      ],
      "metadata": {
        "id": "5rEG1ypZWUU0",
        "colab": {
          "base_uri": "https://localhost:8080/",
          "height": 248
        },
        "outputId": "c2ff0924-67bd-4fa3-dc6b-39ece0503fde"
      },
      "execution_count": null,
      "outputs": [
        {
          "output_type": "display_data",
          "data": {
            "text/plain": [
              "<Figure size 800x300 with 1 Axes>"
            ],
            "image/png": "[encoded data removed]"
          },
          "metadata": {}
        }
      ]
    },
    {
      "cell_type": "code",
      "source": [
        "## confirmando tipagem e estrutura de dados\n",
        "print(type(ax))\n",
        "print(len(ax.patches))\n",
        "dir(ax)\n"
      ],
      "metadata": {
        "id": "aSmTJq9yUXg0"
      },
      "execution_count": null,
      "outputs": []
    },
    {
      "cell_type": "markdown",
      "source": [
        "## Gerando o gráfico \"Distribuição por classe\" de forma automatizada\n",
        "\n"
      ],
      "metadata": {
        "id": "iNjaULhCUXSU"
      }
    },
    {
      "cell_type": "code",
      "source": [
        "\n",
        "# Ler o arquivo CSV\n",
        "df = pd.read_csv('plotdata.csv')\n",
        "\n",
        "# Exibir as primeiras linhas para entender a estrutura dos dados\n",
        "print(df.head())\n",
        "\n",
        "# Criar o gráfico de barras\n",
        "plt.figure(figsize=(10, 6))\n",
        "\n",
        "b_plot = sns.barplot(\n",
        "    x='Classe', y='Número de pessoas', data=df, palette='plasma_r'\n",
        ")\n",
        "\n",
        "# Adicionar rótulos e título\n",
        "plt.xlabel('Classe')\n",
        "plt.ylabel('Número de pessoas')\n",
        "plt.title('Gráfico de Barras: Número de Pessoas por Classe')\n",
        "\n",
        "# Rotacionar os rótulos do eixo x se estiverem sobrepostos\n",
        "plt.xticks(rotation=45)\n",
        "\n",
        "# Ajustar o layout para evitar cortes\n",
        "plt.tight_layout()\n",
        "\n",
        "# Exibir o gráfico\n",
        "#plt.show(b_plot)\n",
        "maidr.show(b_plot)\n",
        "maidr.save_html(file=\"output/teste2.html\", plot=b_plot)"
      ],
      "metadata": {
        "id": "CMsDSKZU0A6x",
        "colab": {
          "base_uri": "https://localhost:8080/",
          "height": 700
        },
        "outputId": "44cd47b6-6578-477d-a9b3-66432c546f71"
      },
      "execution_count": null,
      "outputs": [
        {
          "output_type": "stream",
          "name": "stdout",
          "text": [
            "       Classe  Número de pessoas\n",
            "0  Classe A/B                 23\n",
            "1    Classe C                 50\n",
            "2  Classe D/E                 27\n"
          ]
        },
        {
          "output_type": "execute_result",
          "data": {
            "text/plain": [
              "'output/teste2.html'"
            ],
            "application/vnd.google.colaboratory.intrinsic+json": {
              "type": "string"
            }
          },
          "metadata": {},
          "execution_count": 14
        },
        {
          "output_type": "display_data",
          "data": {
            "text/plain": [
              "<Figure size 1000x600 with 1 Axes>"
            ],
            "image/png": "[encoded data removed]"
          },
          "metadata": {}
        }
      ]
    },
    {
      "cell_type": "markdown",
      "source": [
        "## Gerando o gráfico \"Tipos de serviço utilizados por aplicativos nos últimos 3 meses(%)\", por região, idade e classe\n"
      ],
      "metadata": {
        "id": "gWk-97NRVAWs"
      }
    },
    {
      "cell_type": "code",
      "source": [
        "df = pd.read_csv('plotdata2.csv')"
      ],
      "metadata": {
        "id": "xqJxbz7qguKC"
      },
      "execution_count": null,
      "outputs": []
    },
    {
      "cell_type": "code",
      "source": [
        "# Print the dataframe to see its structure\n",
        "print(\"DataFrame structure:\")\n",
        "print(df.head())\n",
        "print(\"\\nColumns:\")\n",
        "print(df.columns)\n",
        "\n",
        "\n",
        "# Create the bar plot\n",
        "plt.figure(figsize=(12, 6))\n",
        "\n",
        "# Create bar plot using seaborn\n",
        "b_plot = sns.barplot(\n",
        "    data=df,\n",
        "    x='Category',\n",
        "    y='Sim (%)',\n",
        "    palette=['purple', 'red', 'red', 'red', 'red',\n",
        "             'turquoise', 'turquoise', 'turquoise', 'turquoise', 'turquoise',\n",
        "             'magenta', 'magenta', 'magenta']\n",
        ")\n",
        "\n",
        "# Customize the plot\n",
        "plt.title('Tipos de serviço utilizados por aplicativos nos últimos 3 meses (%)', pad=20)\n",
        "plt.xlabel('')\n",
        "plt.ylabel('')\n",
        "\n",
        "# Add value labels on top of each bar\n",
        "for i, v in enumerate(df['Sim (%)']):\n",
        "    b_plot.text(i, v, str(v), ha='center', va='bottom')\n",
        "\n",
        "# Set y-axis limits\n",
        "plt.ylim(0, 100)\n",
        "\n",
        "# Rotate x-axis labels for better readability\n",
        "plt.xticks(rotation=45, ha='right')\n",
        "\n",
        "# Adjust layout to prevent label cutoff\n",
        "plt.tight_layout()\n",
        "\n",
        "maidr.show(b_plot)\n",
        "maidr.save_html(file=\"output/teste3.html\", plot=b_plot)"
      ],
      "metadata": {
        "id": "s-F9D1grNY7L",
        "colab": {
          "base_uri": "https://localhost:8080/",
          "height": 810
        },
        "outputId": "8b13bf13-6856-448f-d7d2-2a9520c7cc79"
      },
      "execution_count": null,
      "outputs": [
        {
          "output_type": "stream",
          "name": "stdout",
          "text": [
            "DataFrame structure:\n",
            "             Category  Sim (%)\n",
            "0               Total       69\n",
            "1  Norte/Centro-Oeste       66\n",
            "2            Nordeste       60\n",
            "3                 Sul       73\n",
            "4             Sudeste       77\n",
            "\n",
            "Columns:\n",
            "Index(['Category', 'Sim (%)'], dtype='object')\n"
          ]
        },
        {
          "output_type": "execute_result",
          "data": {
            "text/plain": [
              "'output/teste3.html'"
            ],
            "application/vnd.google.colaboratory.intrinsic+json": {
              "type": "string"
            }
          },
          "metadata": {},
          "execution_count": 18
        },
        {
          "output_type": "display_data",
          "data": {
            "text/plain": [
              "<Figure size 1200x600 with 1 Axes>"
            ],
            "image/png": "[encoded data removed]"
          },
          "metadata": {}
        }
      ]
    },
    {
      "cell_type": "markdown",
      "source": [
        "## Gerando o gráfico \"O quanto os brasileiros concordam com as seguintes frases sobre trabalho por aplicativo?"
      ],
      "metadata": {
        "id": "0N8IzXR9VAr_"
      }
    },
    {
      "cell_type": "code",
      "source": [
        "\n",
        "# Read the CSV file\n",
        "df = pd.read_csv('plotdata3.csv')\n",
        "\n",
        "# Create the plot\n",
        "plt.figure(figsize=(18, 12))\n",
        "\n",
        "grouped = df.groupby([\"Concorda totalmente/ concorda em parte\", \"O quanto os brasileiros concordam com as seguintes frases sobre trabalho por aplicativo? (%)\"]).size().unstack()\n",
        "\n",
        "    # Plotting the stacked bar chart\n",
        "stacked = grouped.plot(kind=\"bar\", stacked=True)\n",
        "# Create horizontal bar plot\n",
        "b_plot = sns.barplot(\n",
        "    x=df['Concorda totalmente/ concorda em parte'],\n",
        "    y=df['O quanto os brasileiros concordam com as seguintes frases sobre trabalho por aplicativo? (%)'] ,  # Using index for the statements\n",
        "    data=df,\n",
        "    color='#7E55A5',  # Purple color similar to the image\n",
        "    orient='h'\n",
        ")\n",
        "\n",
        "# Add the other bars\n",
        "sns.barplot(\n",
        "    x=df['Não concorda nem discorda'],\n",
        "   y=df['O quanto os brasileiros concordam com as seguintes frases sobre trabalho por aplicativo? (%)'] ,\n",
        "    color='#3D8A88',\n",
        "    orient='h',\n",
        "      data=df,\n",
        "    left=df['Concorda totalmente/ concorda em parte']\n",
        "\n",
        ")\n",
        "\n",
        "sns.barplot(\n",
        "    x=df['Discorda em parte/ Discorda totalemnte'],\n",
        "   y=df['O quanto os brasileiros concordam com as seguintes frases sobre trabalho por aplicativo? (%)'] ,\n",
        "    color='#E5C4D3',\n",
        "    orient='h',\n",
        "      data=df,\n",
        "    left=df['Concorda totalmente/ concorda em parte'] + df['Não concorda nem discorda']\n",
        ")\n",
        "\n",
        "sns.barplot(\n",
        "    x=df['NS/NR'],\n",
        "   y=df['O quanto os brasileiros concordam com as seguintes frases sobre trabalho por aplicativo? (%)'] ,\n",
        "    color='#333333',\n",
        "    orient='h',\n",
        "      data=df,\n",
        "    left=df['Concorda totalmente/ concorda em parte'] + df['Não concorda nem discorda'] + df['Discorda em parte/ Discorda totalemnte']\n",
        ")\n",
        "\n",
        "# Add annotations to display values inside each segment\n",
        "for i in range(len(df)):\n",
        "    # Concorda totalmente/ concorda em parte\n",
        "    plt.text(\n",
        "        df['Concorda totalmente/ concorda em parte'][i] / 2,  # x position (center of the first bar)\n",
        "        i,  # y position\n",
        "        f\"{df['Concorda totalmente/ concorda em parte'][i]:.0f}%\",  # value text\n",
        "        ha='center', va='center', color='white', fontweight='bold'\n",
        "    )\n",
        "\n",
        "    # Não concorda nem discorda\n",
        "    plt.text(\n",
        "        df['Concorda totalmente/ concorda em parte'][i] + df['Não concorda nem discorda'][i] / 2,  # center of the second bar\n",
        "        i,\n",
        "        f\"{df['Não concorda nem discorda'][i]:.0f}%\",\n",
        "        ha='center', va='center', color='black', fontweight='bold'\n",
        "    )\n",
        "\n",
        "    # Discorda em parte/ Discorda totalemnte\n",
        "    plt.text(\n",
        "        df['Concorda totalmente/ concorda em parte'][i] + df['Não concorda nem discorda'][i] + df['Discorda em parte/ Discorda totalemnte'][i] / 2,  # center of the third bar\n",
        "        i,\n",
        "        f\"{df['Discorda em parte/ Discorda totalemnte'][i]:.0f}%\",\n",
        "        ha='center', va='center', color='black', fontweight='bold'\n",
        "    )\n",
        "\n",
        "    # NS/NR\n",
        "    plt.text(\n",
        "        df['Concorda totalmente/ concorda em parte'][i] + df['Não concorda nem discorda'][i] + df['Discorda em parte/ Discorda totalemnte'][i] + df['NS/NR'][i] / 2,  # center of the fourth bar\n",
        "        i,\n",
        "        f\"{df['NS/NR'][i]:.0f}%\",\n",
        "        ha='center', va='center', color='white', fontweight='bold'\n",
        "    )\n",
        "\n",
        "\n",
        "# Customize the plot\n",
        "plt.title('O quanto os brasileiros concordam com as seguintes frases sobre trabalho por aplicativo? (%)')\n",
        "plt.xlabel('')\n",
        "plt.xlim(0, 100)\n",
        "\n",
        "\n",
        "# Add legend\n",
        "#legend_labels = ['Concorda totalmente/ concorda em parte',\n",
        "#                'Não concorda nem discorda',\n",
        "#                'Discorda em parte/ Discorda totalemnte',\n",
        "#                'NS/NR']\n",
        "#plt.legend(legend_labels, bbox_to_anchor=(1.05, 1), loc='upper left')\n",
        "\n",
        "# Adjust layout to prevent label cutoff\n",
        "#plt.tight_layout()\n",
        "maidr.show(b_plot)\n",
        "maidr.save_html(file=\"output/teste4.html\", plot=b_plot)"
      ],
      "metadata": {
        "id": "FV-p0__KUWQ_",
        "colab": {
          "base_uri": "https://localhost:8080/",
          "height": 679
        },
        "outputId": "6c6e6763-a907-4cf9-8996-52818815478d"
      },
      "execution_count": null,
      "outputs": [
        {
          "output_type": "error",
          "ename": "ExtractionError",
          "evalue": "Error extracting data for bar plot type from <class 'list'>.",
          "traceback": [
            "\u001b[0;31m---------------------------------------------------------------------------\u001b[0m",
            "\u001b[0;31mExtractionError\u001b[0m                           Traceback (most recent call last)",
            "\u001b[0;32m<ipython-input-74-1e9e478dd4af>\u001b[0m in \u001b[0;36m<cell line: 99>\u001b[0;34m()\u001b[0m\n\u001b[1;32m     97\u001b[0m \u001b[0;31m# Adjust layout to prevent label cutoff\u001b[0m\u001b[0;34m\u001b[0m\u001b[0;34m\u001b[0m\u001b[0m\n\u001b[1;32m     98\u001b[0m \u001b[0;31m#plt.tight_layout()\u001b[0m\u001b[0;34m\u001b[0m\u001b[0;34m\u001b[0m\u001b[0m\n\u001b[0;32m---> 99\u001b[0;31m \u001b[0mmaidr\u001b[0m\u001b[0;34m.\u001b[0m\u001b[0mshow\u001b[0m\u001b[0;34m(\u001b[0m\u001b[0mb_plot\u001b[0m\u001b[0;34m)\u001b[0m\u001b[0;34m\u001b[0m\u001b[0;34m\u001b[0m\u001b[0m\n\u001b[0m\u001b[1;32m    100\u001b[0m \u001b[0mmaidr\u001b[0m\u001b[0;34m.\u001b[0m\u001b[0msave_html\u001b[0m\u001b[0;34m(\u001b[0m\u001b[0mfile\u001b[0m\u001b[0;34m=\u001b[0m\u001b[0;34m\"output/teste4.html\"\u001b[0m\u001b[0;34m,\u001b[0m \u001b[0mplot\u001b[0m\u001b[0;34m=\u001b[0m\u001b[0mb_plot\u001b[0m\u001b[0;34m)\u001b[0m\u001b[0;34m\u001b[0m\u001b[0;34m\u001b[0m\u001b[0m\n",
            "\u001b[0;32m/usr/local/lib/python3.10/dist-packages/maidr/api.py\u001b[0m in \u001b[0;36mshow\u001b[0;34m(plot, renderer)\u001b[0m\n\u001b[1;32m     21\u001b[0m     \u001b[0max\u001b[0m \u001b[0;34m=\u001b[0m \u001b[0mFigureManager\u001b[0m\u001b[0;34m.\u001b[0m\u001b[0mget_axes\u001b[0m\u001b[0;34m(\u001b[0m\u001b[0mplot\u001b[0m\u001b[0;34m)\u001b[0m\u001b[0;34m\u001b[0m\u001b[0;34m\u001b[0m\u001b[0m\n\u001b[1;32m     22\u001b[0m     \u001b[0mmaidr\u001b[0m \u001b[0;34m=\u001b[0m \u001b[0mFigureManager\u001b[0m\u001b[0;34m.\u001b[0m\u001b[0mget_maidr\u001b[0m\u001b[0;34m(\u001b[0m\u001b[0max\u001b[0m\u001b[0;34m.\u001b[0m\u001b[0mget_figure\u001b[0m\u001b[0;34m(\u001b[0m\u001b[0;34m)\u001b[0m\u001b[0;34m)\u001b[0m\u001b[0;34m\u001b[0m\u001b[0;34m\u001b[0m\u001b[0m\n\u001b[0;32m---> 23\u001b[0;31m     \u001b[0;32mreturn\u001b[0m \u001b[0mmaidr\u001b[0m\u001b[0;34m.\u001b[0m\u001b[0mshow\u001b[0m\u001b[0;34m(\u001b[0m\u001b[0mrenderer\u001b[0m\u001b[0;34m)\u001b[0m\u001b[0;34m\u001b[0m\u001b[0;34m\u001b[0m\u001b[0m\n\u001b[0m\u001b[1;32m     24\u001b[0m \u001b[0;34m\u001b[0m\u001b[0m\n\u001b[1;32m     25\u001b[0m \u001b[0;34m\u001b[0m\u001b[0m\n",
            "\u001b[0;32m/usr/local/lib/python3.10/dist-packages/maidr/core/maidr.py\u001b[0m in \u001b[0;36mshow\u001b[0;34m(self, renderer)\u001b[0m\n\u001b[1;32m     86\u001b[0m             \u001b[0mThe\u001b[0m \u001b[0mrenderer\u001b[0m \u001b[0mto\u001b[0m \u001b[0muse\u001b[0m \u001b[0;32mfor\u001b[0m \u001b[0mthe\u001b[0m \u001b[0mHTML\u001b[0m \u001b[0mpreview\u001b[0m\u001b[0;34m.\u001b[0m\u001b[0;34m\u001b[0m\u001b[0;34m\u001b[0m\u001b[0m\n\u001b[1;32m     87\u001b[0m         \"\"\"\n\u001b[0;32m---> 88\u001b[0;31m         \u001b[0mhtml\u001b[0m \u001b[0;34m=\u001b[0m \u001b[0mself\u001b[0m\u001b[0;34m.\u001b[0m\u001b[0m_create_html_tag\u001b[0m\u001b[0;34m(\u001b[0m\u001b[0;34m)\u001b[0m\u001b[0;34m\u001b[0m\u001b[0;34m\u001b[0m\u001b[0m\n\u001b[0m\u001b[1;32m     89\u001b[0m         \u001b[0m_renderer\u001b[0m \u001b[0;34m=\u001b[0m \u001b[0mEnvironment\u001b[0m\u001b[0;34m.\u001b[0m\u001b[0mget_renderer\u001b[0m\u001b[0;34m(\u001b[0m\u001b[0;34m)\u001b[0m\u001b[0;34m\u001b[0m\u001b[0;34m\u001b[0m\u001b[0m\n\u001b[1;32m     90\u001b[0m         if _renderer == \"browser\" or (\n",
            "\u001b[0;32m/usr/local/lib/python3.10/dist-packages/maidr/core/maidr.py\u001b[0m in \u001b[0;36m_create_html_tag\u001b[0;34m(self)\u001b[0m\n\u001b[1;32m    115\u001b[0m     \u001b[0;32mdef\u001b[0m \u001b[0m_create_html_tag\u001b[0m\u001b[0;34m(\u001b[0m\u001b[0mself\u001b[0m\u001b[0;34m)\u001b[0m \u001b[0;34m->\u001b[0m \u001b[0mTag\u001b[0m\u001b[0;34m:\u001b[0m\u001b[0;34m\u001b[0m\u001b[0;34m\u001b[0m\u001b[0m\n\u001b[1;32m    116\u001b[0m         \u001b[0;34m\"\"\"Create the MAIDR HTML using HTML tags.\"\"\"\u001b[0m\u001b[0;34m\u001b[0m\u001b[0;34m\u001b[0m\u001b[0m\n\u001b[0;32m--> 117\u001b[0;31m         \u001b[0mtagged_elements\u001b[0m \u001b[0;34m=\u001b[0m \u001b[0;34m[\u001b[0m\u001b[0melement\u001b[0m \u001b[0;32mfor\u001b[0m \u001b[0mplot\u001b[0m \u001b[0;32min\u001b[0m \u001b[0mself\u001b[0m\u001b[0;34m.\u001b[0m\u001b[0m_plots\u001b[0m \u001b[0;32mfor\u001b[0m \u001b[0melement\u001b[0m \u001b[0;32min\u001b[0m \u001b[0mplot\u001b[0m\u001b[0;34m.\u001b[0m\u001b[0melements\u001b[0m\u001b[0;34m]\u001b[0m\u001b[0;34m\u001b[0m\u001b[0;34m\u001b[0m\u001b[0m\n\u001b[0m\u001b[1;32m    118\u001b[0m         \u001b[0;32mwith\u001b[0m \u001b[0mHighlightContextManager\u001b[0m\u001b[0;34m.\u001b[0m\u001b[0mset_maidr_elements\u001b[0m\u001b[0;34m(\u001b[0m\u001b[0mtagged_elements\u001b[0m\u001b[0;34m)\u001b[0m\u001b[0;34m:\u001b[0m\u001b[0;34m\u001b[0m\u001b[0;34m\u001b[0m\u001b[0m\n\u001b[1;32m    119\u001b[0m             \u001b[0msvg\u001b[0m \u001b[0;34m=\u001b[0m \u001b[0mself\u001b[0m\u001b[0;34m.\u001b[0m\u001b[0m_get_svg\u001b[0m\u001b[0;34m(\u001b[0m\u001b[0;34m)\u001b[0m\u001b[0;34m\u001b[0m\u001b[0;34m\u001b[0m\u001b[0m\n",
            "\u001b[0;32m/usr/local/lib/python3.10/dist-packages/maidr/core/maidr.py\u001b[0m in \u001b[0;36m<listcomp>\u001b[0;34m(.0)\u001b[0m\n\u001b[1;32m    115\u001b[0m     \u001b[0;32mdef\u001b[0m \u001b[0m_create_html_tag\u001b[0m\u001b[0;34m(\u001b[0m\u001b[0mself\u001b[0m\u001b[0;34m)\u001b[0m \u001b[0;34m->\u001b[0m \u001b[0mTag\u001b[0m\u001b[0;34m:\u001b[0m\u001b[0;34m\u001b[0m\u001b[0;34m\u001b[0m\u001b[0m\n\u001b[1;32m    116\u001b[0m         \u001b[0;34m\"\"\"Create the MAIDR HTML using HTML tags.\"\"\"\u001b[0m\u001b[0;34m\u001b[0m\u001b[0;34m\u001b[0m\u001b[0m\n\u001b[0;32m--> 117\u001b[0;31m         \u001b[0mtagged_elements\u001b[0m \u001b[0;34m=\u001b[0m \u001b[0;34m[\u001b[0m\u001b[0melement\u001b[0m \u001b[0;32mfor\u001b[0m \u001b[0mplot\u001b[0m \u001b[0;32min\u001b[0m \u001b[0mself\u001b[0m\u001b[0;34m.\u001b[0m\u001b[0m_plots\u001b[0m \u001b[0;32mfor\u001b[0m \u001b[0melement\u001b[0m \u001b[0;32min\u001b[0m \u001b[0mplot\u001b[0m\u001b[0;34m.\u001b[0m\u001b[0melements\u001b[0m\u001b[0;34m]\u001b[0m\u001b[0;34m\u001b[0m\u001b[0;34m\u001b[0m\u001b[0m\n\u001b[0m\u001b[1;32m    118\u001b[0m         \u001b[0;32mwith\u001b[0m \u001b[0mHighlightContextManager\u001b[0m\u001b[0;34m.\u001b[0m\u001b[0mset_maidr_elements\u001b[0m\u001b[0;34m(\u001b[0m\u001b[0mtagged_elements\u001b[0m\u001b[0;34m)\u001b[0m\u001b[0;34m:\u001b[0m\u001b[0;34m\u001b[0m\u001b[0;34m\u001b[0m\u001b[0m\n\u001b[1;32m    119\u001b[0m             \u001b[0msvg\u001b[0m \u001b[0;34m=\u001b[0m \u001b[0mself\u001b[0m\u001b[0;34m.\u001b[0m\u001b[0m_get_svg\u001b[0m\u001b[0;34m(\u001b[0m\u001b[0;34m)\u001b[0m\u001b[0;34m\u001b[0m\u001b[0;34m\u001b[0m\u001b[0m\n",
            "\u001b[0;32m/usr/local/lib/python3.10/dist-packages/maidr/core/plot/maidr_plot.py\u001b[0m in \u001b[0;36melements\u001b[0;34m(self)\u001b[0m\n\u001b[1;32m     90\u001b[0m     \u001b[0;32mdef\u001b[0m \u001b[0melements\u001b[0m\u001b[0;34m(\u001b[0m\u001b[0mself\u001b[0m\u001b[0;34m)\u001b[0m \u001b[0;34m->\u001b[0m \u001b[0mlist\u001b[0m\u001b[0;34m:\u001b[0m\u001b[0;34m\u001b[0m\u001b[0;34m\u001b[0m\u001b[0m\n\u001b[1;32m     91\u001b[0m         \u001b[0;32mif\u001b[0m \u001b[0;32mnot\u001b[0m \u001b[0mself\u001b[0m\u001b[0;34m.\u001b[0m\u001b[0m_schema\u001b[0m\u001b[0;34m:\u001b[0m\u001b[0;34m\u001b[0m\u001b[0;34m\u001b[0m\u001b[0m\n\u001b[0;32m---> 92\u001b[0;31m             \u001b[0mself\u001b[0m\u001b[0;34m.\u001b[0m\u001b[0m_schema\u001b[0m \u001b[0;34m=\u001b[0m \u001b[0mself\u001b[0m\u001b[0;34m.\u001b[0m\u001b[0mrender\u001b[0m\u001b[0;34m(\u001b[0m\u001b[0;34m)\u001b[0m\u001b[0;34m\u001b[0m\u001b[0;34m\u001b[0m\u001b[0m\n\u001b[0m\u001b[1;32m     93\u001b[0m         \u001b[0;32mreturn\u001b[0m \u001b[0mself\u001b[0m\u001b[0;34m.\u001b[0m\u001b[0m_elements\u001b[0m\u001b[0;34m\u001b[0m\u001b[0;34m\u001b[0m\u001b[0m\n\u001b[1;32m     94\u001b[0m \u001b[0;34m\u001b[0m\u001b[0m\n",
            "\u001b[0;32m/usr/local/lib/python3.10/dist-packages/maidr/core/plot/maidr_plot.py\u001b[0m in \u001b[0;36mrender\u001b[0;34m(self)\u001b[0m\n\u001b[1;32m     51\u001b[0m             \u001b[0mMaidrKey\u001b[0m\u001b[0;34m.\u001b[0m\u001b[0mTITLE\u001b[0m\u001b[0;34m:\u001b[0m \u001b[0mself\u001b[0m\u001b[0;34m.\u001b[0m\u001b[0max\u001b[0m\u001b[0;34m.\u001b[0m\u001b[0mget_title\u001b[0m\u001b[0;34m(\u001b[0m\u001b[0;34m)\u001b[0m\u001b[0;34m,\u001b[0m\u001b[0;34m\u001b[0m\u001b[0;34m\u001b[0m\u001b[0m\n\u001b[1;32m     52\u001b[0m             \u001b[0mMaidrKey\u001b[0m\u001b[0;34m.\u001b[0m\u001b[0mAXES\u001b[0m\u001b[0;34m:\u001b[0m \u001b[0mself\u001b[0m\u001b[0;34m.\u001b[0m\u001b[0m_extract_axes_data\u001b[0m\u001b[0;34m(\u001b[0m\u001b[0;34m)\u001b[0m\u001b[0;34m,\u001b[0m\u001b[0;34m\u001b[0m\u001b[0;34m\u001b[0m\u001b[0m\n\u001b[0;32m---> 53\u001b[0;31m             \u001b[0mMaidrKey\u001b[0m\u001b[0;34m.\u001b[0m\u001b[0mDATA\u001b[0m\u001b[0;34m:\u001b[0m \u001b[0mself\u001b[0m\u001b[0;34m.\u001b[0m\u001b[0m_extract_plot_data\u001b[0m\u001b[0;34m(\u001b[0m\u001b[0;34m)\u001b[0m\u001b[0;34m,\u001b[0m\u001b[0;34m\u001b[0m\u001b[0;34m\u001b[0m\u001b[0m\n\u001b[0m\u001b[1;32m     54\u001b[0m         }\n\u001b[1;32m     55\u001b[0m \u001b[0;34m\u001b[0m\u001b[0m\n",
            "\u001b[0;32m/usr/local/lib/python3.10/dist-packages/maidr/core/plot/barplot.py\u001b[0m in \u001b[0;36m_extract_plot_data\u001b[0;34m(self)\u001b[0m\n\u001b[1;32m     32\u001b[0m \u001b[0;34m\u001b[0m\u001b[0m\n\u001b[1;32m     33\u001b[0m         \u001b[0;32mif\u001b[0m \u001b[0mdata\u001b[0m \u001b[0;32mis\u001b[0m \u001b[0;32mNone\u001b[0m\u001b[0;34m:\u001b[0m\u001b[0;34m\u001b[0m\u001b[0;34m\u001b[0m\u001b[0m\n\u001b[0;32m---> 34\u001b[0;31m             \u001b[0;32mraise\u001b[0m \u001b[0mExtractionError\u001b[0m\u001b[0;34m(\u001b[0m\u001b[0mself\u001b[0m\u001b[0;34m.\u001b[0m\u001b[0mtype\u001b[0m\u001b[0;34m,\u001b[0m \u001b[0mplot\u001b[0m\u001b[0;34m)\u001b[0m\u001b[0;34m\u001b[0m\u001b[0;34m\u001b[0m\u001b[0m\n\u001b[0m\u001b[1;32m     35\u001b[0m \u001b[0;34m\u001b[0m\u001b[0m\n\u001b[1;32m     36\u001b[0m         \u001b[0;32mreturn\u001b[0m \u001b[0mdata\u001b[0m\u001b[0;34m\u001b[0m\u001b[0;34m\u001b[0m\u001b[0m\n",
            "\u001b[0;31mExtractionError\u001b[0m: Error extracting data for bar plot type from <class 'list'>."
          ]
        },
        {
          "output_type": "display_data",
          "data": {
            "text/plain": [
              "<Figure size 1800x1200 with 0 Axes>"
            ]
          },
          "metadata": {}
        },
        {
          "output_type": "display_data",
          "data": {
            "text/plain": [
              "<Figure size 640x480 with 1 Axes>"
            ],
            "image/png": "[encoded data removed]"
          },
          "metadata": {}
        }
      ]
    },
    {
      "cell_type": "markdown",
      "source": [
        "\n",
        "## É possível reproduzir a própria planilha?\n",
        "\n",
        "Embora parece ser um problema menor, infelizmente o maidr não é utilizável para transformar tabelas ou planilhas para formato HTML. No entanto, para tabelas simples, é algo relativamente simples com software livre, como fiz abaixo.\n",
        "\n"
      ],
      "metadata": {
        "id": "1OIRpVdxVBJ2"
      }
    },
    {
      "cell_type": "code",
      "source": [
        "!git clone -b python https://github.com/dbohdan/csv2html\n",
        "%cd csv2html\n",
        "!python setup.py install --user"
      ],
      "metadata": {
        "id": "aW5tkbx3SFZD"
      },
      "execution_count": null,
      "outputs": []
    },
    {
      "cell_type": "code",
      "source": [
        "!csv2html -o testeee.html test/test.csv"
      ],
      "metadata": {
        "id": "4QeYb4ZiS8na"
      },
      "execution_count": null,
      "outputs": []
    },
    {
      "cell_type": "markdown",
      "source": [
        "# Conclusão\n",
        "\n",
        "A sonificação dos dados acerca da percepção dos brasileiros sobre trabalho de aplicativo (e bases de dados similares) apresenta várias possibilidades criativas, de sensibilização com o que está se afirmando com uma representação. É uma experiência corporificada de um dado. Ao contrário da máxima \"tradutor, traidor\", mapear os dados à parâmetros sonoros é uma tradução fecunda, não buscando substituir a visualização de dados tradicional.\n",
        "\n",
        "A acessibilidade dos dados através do som e da computação permanece um grande desafio. O MAIDR é representante do estado da arte e, ainda assim, possui grandes limitações, além de ainda não ter uma adoção universal. Mas utilizá-lo para tornar acessível as visualizações do relatório aponta que suas escolhas por multimodalidade, autonomia do usuário e implementação de baixo custo foram acertadas.\n",
        "\n",
        "MAIDR também é um projeto de *software* livre. Para um iniciante, um bom ponto de partida para contribuir com o projeto seria localizá-lo em português. Uma contribuição mais avançada, mas com sérias implicações, seria trabalhar na sugestão de torná-lo uma das opções de *backend* do `matplotlib`, o módulo de facto da estatística em Python."
      ],
      "metadata": {
        "id": "ZnOzPFEk8MdS"
      }
    },
    {
      "cell_type": "markdown",
      "source": [
        "# Notas de fim"
      ],
      "metadata": {
        "id": "KS8vZOQk8QIy"
      }
    },
    {
      "cell_type": "markdown",
      "source": [
        "# Referências"
      ],
      "metadata": {
        "id": "xTZdEbnBtWw1"
      }
    },
    {
      "cell_type": "markdown",
      "source": [
        "**Artigos**\n",
        "\n",
        "BRINN, Shamsi; CAMERON, Christopher; FIELDING, David; et al. A framework for improving the accessibility of research papers on arXiv.org. 2024. Disponível em: <http://arxiv.org/abs/2212.07286>. Acesso em: 19 out. 2024.\n",
        "\n",
        "CIUCCARELLI, Paolo; LENZI, Sara. Intentionality and design in the data sonification of social issues. Big Data & Society, v. 7, n. 2. 2020. Disponível em: <https://journals.sagepub.com/doi/epub/10.1177/2053951720944603>. Acesso em: 9 set. 2024.\n",
        "\n",
        "DUBUS, Gaël; BRESIN, Roberto. A systematic review of mapping strategies for the sonification of physical quantities. PLOS ONE, v. 8, n. 12, p. 82491, 2013.\n",
        "\n",
        "ENGE, Kajetan; RIND, Alexander; IBER, Michael; et al. Towards a unified terminology for sonification and visualization. Personal and Ubiquitous Computing, v. 27, n. 5, p. 1949–1963, 2023.\n",
        "\n",
        "FAN, Danyang; FAY SIU, Alexa; RAO, Hrishikesh; et al. The Accessibility of Data Visualizations on the Web for Screen Reader Users: Practices and Experiences During COVID-19. ACM Trans. Access. Comput., v. 16, n. 1, p. 4:1-4:29, 2023.\n",
        "\n",
        "NEUHOFF, John G. Is Sonification Doomed to Fail? In: Proceedings of the 25th International Conference on Auditory Display (ICAD 2019). Newcastle upon Tyne: Department of Computer and Information Sciences, Northumbria University, 2019, p. 327–330. Disponível em: <http://hdl.handle.net/1853/61531>. Acesso em: 9 set. 2024.\n",
        "\n",
        "SEO, JooYoung; XIA, Yilin; LEE, Bongshin; et al. MAIDR: Making Statistical Visualizations Accessible with Multimodal Data Representation. In: Proceedings of the 2024 CHI Conference on Human Factors in Computing Systems. New York, NY, USA: Association for Computing Machinery, 2024, p. 1–22. (CHI ’24). Disponível em: <https://dl.acm.org/doi/10.1145/3613904.3642730>. Acesso em: 23 out. 2024.\n",
        "\n",
        "\n",
        "**Portfólios de creative coders, artistas e coletivos**\n",
        "\n",
        "Aaron Koblin. Disponível em: <https://www.aaronkoblin.com/>\n",
        "\n",
        "Luke Dubois. Disponível em: <https://www.lukedubois.com/>\n",
        "\n",
        "Robert Hodgkin. Disponível em: <https://roberthodgin.com/>\n",
        "\n",
        "Studio Nand. Disponível em: <https://www.nand.io/case-studies>\n",
        "\n",
        "We feel fine (Jonathan Harris and Sep Kamvar). Disponível em: <http://wefeelfine.org/>\n",
        "\n",
        "\n",
        "**Visualização de dados**\n",
        "\n",
        "FRAGAPANE, Federica. Federica Fragapane profile. Behance. Disponível em: <https://www.behance.net/FedericaFragapane>. Acesso em: ago/set. 2024.\n",
        "\n",
        "FRAGAPANE, Federica; PIACENTINI, Alex. The stories behind a line. Disponível em: <http://www.storiesbehindaline.com/>. Acesso em: ago/set. 2024.\n",
        "\n",
        "FRAGAPANE, Federica. Graphics for the Publications Office of the EU. Behance. Disponível em: <https://www.behance.net/gallery/188704943/Graphics-for-the-Publications-Office-of-the-EU?tracking_source=search_projects_appreciations|data+visualization&l=1>. Acesso em: ago/set. 2024.\n",
        "\n",
        "Flowing Data. Disponível em: <https://flowingdata.com/>. Acesso em: ago/set. 2024.\n",
        "\n",
        "GRINIŪTĖ, Greta; KORSAKAITE, Kamile; PAUKSTE, Augustinas; et al. Digital Culture Index. Behance. Disponível em: <https://www.behance.net/gallery/202754337/Digital-Culture-Index?tracking_source=search_projects_appreciations|data+visualization&l=0>. Acesso em: ago/set. 2024.\n",
        "\n",
        "LUPI, Giorgia. Dear Data. Behance. Disponível em: <https://www.behance.net/gallery/40819275/Dear-Data?tracking_source=search_projects_appreciations|data+visualization l=1>. Acesso em: ago/set. 2024.\n",
        "\n",
        "MARIMUTHU, Prasanth; ROY, Suvo; SAHAY, Shashank; et al. A Guide to Data Visualization. Behance. Disponível em: <https://www.behance.net/gallery/60621729/A-Guide-to-Data-Visualization-Comparison-Part-1?tracking_source=search_projects_appreciations|data+visualization&l=7>. Acesso em: ago/set. 2024.\n",
        "\n",
        "Our World in Data: Research and data to make progress against the world’s largest problems. Disponível em: <https://ourworldindata.org/>. Acesso em: ago/set. 2024.\n",
        "\n",
        "STEFANER, Moritz. The Rhythm of Food: Analyzing food seasonality.  Truth and beauty. Disponível em: <https://truth-and-beauty.net/projects/the-rhythm-of-food>. Acesso em: ago/set. 2024.\n",
        "\n",
        "STEFANER, Moritz. OECD Better Life Index. How's life?  Truth and beauty. Disponível em: <https://truth-and-beauty.net/projects/oecd-better-life-index>. Acesso em: ago/set. 2024.\n",
        "\n",
        "STEFANER, Moritz. Emoto: Visualizing the online response to London 2012.  Archive Stefaner. Disponível em: <http://archive.stefaner.eu/projects/emoto/>. Acesso em: ago/set. 2024.\n",
        "\n",
        "VIDEIRA, Luísa. Data visualization.  Behance. Disponível em: <https://www.behance.net/gallery/185742751/data-visualization?tracking_source=search_projects_comments|data+visualization&l=1>. Acesso em: ago/set. 2024.\n",
        "\n",
        "\n",
        "\n",
        "**Multimodalidade e representação de dados**\n",
        "\n",
        "\n",
        "JONES, Austin. Dali-rs.  GitHub. Disponível em: <https://github.com/austinjones/dali-rs>. Acesso em: ago/set. 2024.\n",
        "\n",
        "KUHN, Josh. Making Generative Art with Rust.  Abor. Disponível em: <https://blog.abor.dev/p/making-generative-art-with-rust?r=jx6d6>. Acesso em: ago/set. 2024.\n",
        "\n",
        "MetaLAB (at) Harvard.  Harvard. Disponível em: <https://cyber.harvard.edu/research/metalab>. Acesso em: ago/set. 2024.\n",
        "\n",
        "Orbit.  Patreon. Disponível em: <https://www.patreon.com/posts/nascent-art-for-39070865>. Acesso em: ago/set. 2024.\n",
        "\n",
        "Rerun.  GitHub. Disponível em: <https://github.com/rerun-io/rerun>. Acesso em: ago/set. 2024.\n",
        "\n",
        "SIU, Matthew W.  Personal site eight pied. Disponível em: <https://personal-site-eight-pied.vercel.app>. Acesso em: ago/set. 2024.\n",
        "\n",
        "STAHL, Peter M. Grex.  GitHub. Disponível em: <https://github.com/pemistahl/grex>. Acesso em: ago/set. 2024.\n",
        "\n",
        "Repositórios de projetos relacionados à visualização de dados, sonificação e/ou acessibilidade digital Crate csv-rust.  Docs.rs. Disponível em: <https://docs.rs/csv/latest/csv/>. Acesso em: ago/set. 2024.\n",
        "\n",
        "Fyrox.  GitHub. Disponível em: <https://github.com/FyroxEngine/Fyrox>. Acesso em: ago/set. 2024.\n",
        "\n",
        "GALLANT, Andrew. Rust-cvs.  GitHub. Disponível em: <https://github.com/BurntSushi/rust-csv>. Acesso em: ago/set. 2024.\n",
        "\n",
        "HASHEMI, Shayan. Tabiew.  GitHub. Disponível em: <https://github.com/shshemi/tabiew>. Acesso em: ago/set. 2024.\n",
        "\n",
        "Lava-xyz. Rust-Ontologist.  GitHub. Disponível em: <https://github.com/lava-xyz/rust-ontologist>. Acesso em: ago/set. 2024.\n",
        "\n",
        "Nannou.  GitHub. Disponível em: <https://github.com/nannou-org/nannou>. Acesso em: ago/set. 2024.\n",
        "\n",
        "Musnix.  GitHub. Disponível em: <https://github.com/musnix/musnix>. Acesso em: ago/set. 2024.\n",
        "\n",
        "Ratatui.  GitHub. Disponível em: <https://github.com/ratatui/ratatui>. Acesso em: ago/set. 2024.\n",
        "\n",
        "Super Collider.  GitHub. Disponível em: <https://github.com/supercollider/supercollider>. Acesso em: ago/set. 2024.\n",
        "\n",
        "Urpflanze Org. Core.  GitHub. Disponível em: <https://github.com/urpflanze-org/core>. Acesso em: ago/set. 2024.\n",
        "\n",
        "Valora.  Crates.io. Disponível em: <https://crates.io/crates/valora>. Acesso em: ago/set. 2024.\n",
        "\n",
        "VARIER, Chai. Lorenz Sonified.  GitHub. Disponível em: <https://github.com/cvarier/Lorenz-Sonified>. Acesso em: ago/set. 2024.\n",
        "\n",
        "WasmEdge Runtime. Media Pipe.  GitHub. Disponível em: <https://github.com/WasmEdge/mediapipe-rs>. Acesso em: ago/set. 2024.\n",
        "\n"
      ],
      "metadata": {
        "id": "5K5uXdADtr8Y"
      }
    }
  ]
}